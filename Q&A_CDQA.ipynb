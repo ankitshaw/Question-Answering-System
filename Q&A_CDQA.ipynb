{
  "nbformat": 4,
  "nbformat_minor": 0,
  "metadata": {
    "colab": {
      "name": "Q&A-CDQA.ipynb",
      "provenance": [],
      "collapsed_sections": []
    },
    "kernelspec": {
      "name": "python3",
      "display_name": "Python 3"
    },
    "language_info": {
      "name": "python"
    }
  },
  "cells": [
    {
      "cell_type": "code",
      "metadata": {
        "id": "OBy7N4P0FDKw"
      },
      "source": [
        "!pip install -U pandas==0.25.0"
      ],
      "execution_count": null,
      "outputs": []
    },
    {
      "cell_type": "code",
      "metadata": {
        "colab": {
          "base_uri": "https://localhost:8080/",
          "height": 1000
        },
        "id": "Hh2i8PPg-CIW",
        "outputId": "d869f26b-57c7-4c18-f051-50cc1ff1a7c4"
      },
      "source": [
        "!pip install cdqa"
      ],
      "execution_count": 1,
      "outputs": [
        {
          "output_type": "stream",
          "text": [
            "Collecting cdqa\n",
            "\u001b[?25l  Downloading https://files.pythonhosted.org/packages/39/f5/af831b7ee653aa6bace99e39ec6b2754b1adb10bb60a1296f5e16f1f24ee/cdqa-1.3.9.tar.gz (45kB)\n",
            "\u001b[K     |████████████████████████████████| 51kB 2.6MB/s \n",
            "\u001b[?25hCollecting Flask==1.1.1\n",
            "\u001b[?25l  Downloading https://files.pythonhosted.org/packages/9b/93/628509b8d5dc749656a9641f4caf13540e2cdec85276964ff8f43bbb1d3b/Flask-1.1.1-py2.py3-none-any.whl (94kB)\n",
            "\u001b[K     |████████████████████████████████| 102kB 4.3MB/s \n",
            "\u001b[?25hCollecting flask_cors==3.0.8\n",
            "  Downloading https://files.pythonhosted.org/packages/78/38/e68b11daa5d613e3a91e4bf3da76c94ac9ee0d9cd515af9c1ab80d36f709/Flask_Cors-3.0.8-py2.py3-none-any.whl\n",
            "Collecting joblib==0.13.2\n",
            "\u001b[?25l  Downloading https://files.pythonhosted.org/packages/cd/c1/50a758e8247561e58cb87305b1e90b171b8c767b15b12a1734001f41d356/joblib-0.13.2-py2.py3-none-any.whl (278kB)\n",
            "\u001b[K     |████████████████████████████████| 286kB 25.9MB/s \n",
            "\u001b[?25hCollecting pandas==0.25.0\n",
            "\u001b[?25l  Downloading https://files.pythonhosted.org/packages/3b/42/dc1f4820b95fbdbc9352ec9ad0f0c40db2122e1f2440ea53c7f9fbccf2b8/pandas-0.25.0-cp37-cp37m-manylinux1_x86_64.whl (10.4MB)\n",
            "\u001b[K     |████████████████████████████████| 10.4MB 27.4MB/s \n",
            "\u001b[?25hCollecting prettytable==0.7.2\n",
            "  Downloading https://files.pythonhosted.org/packages/ef/30/4b0746848746ed5941f052479e7c23d2b56d174b82f4fd34a25e389831f5/prettytable-0.7.2.tar.bz2\n",
            "Collecting transformers==2.1.1\n",
            "\u001b[?25l  Downloading https://files.pythonhosted.org/packages/fd/f9/51824e40f0a23a49eab4fcaa45c1c797cbf9761adedd0b558dab7c958b34/transformers-2.1.1-py3-none-any.whl (311kB)\n",
            "\u001b[K     |████████████████████████████████| 317kB 46.4MB/s \n",
            "\u001b[?25hCollecting scikit_learn==0.21.2\n",
            "\u001b[?25l  Downloading https://files.pythonhosted.org/packages/21/a4/a48bd4b0d15395362b561df7e7247de87291105eb736a3b2aaffebf437b9/scikit_learn-0.21.2-cp37-cp37m-manylinux1_x86_64.whl (6.7MB)\n",
            "\u001b[K     |████████████████████████████████| 6.7MB 51.0MB/s \n",
            "\u001b[?25hCollecting tika==1.19\n",
            "  Downloading https://files.pythonhosted.org/packages/10/75/b566e446ffcf292f10c8d84c15a3d91615fe3d7ca8072a17c949d4e84b66/tika-1.19.tar.gz\n",
            "Collecting torch==1.2.0\n",
            "\u001b[?25l  Downloading https://files.pythonhosted.org/packages/05/65/5248be50c55ab7429dd5c11f5e2f9f5865606b80e854ca63139ad1a584f2/torch-1.2.0-cp37-cp37m-manylinux1_x86_64.whl (748.9MB)\n",
            "\u001b[K     |████████████████████████████████| 748.9MB 23kB/s \n",
            "\u001b[?25hCollecting markdown==3.1.1\n",
            "\u001b[?25l  Downloading https://files.pythonhosted.org/packages/c0/4e/fd492e91abdc2d2fcb70ef453064d980688762079397f779758e055f6575/Markdown-3.1.1-py2.py3-none-any.whl (87kB)\n",
            "\u001b[K     |████████████████████████████████| 92kB 7.8MB/s \n",
            "\u001b[?25hCollecting tqdm==4.32.2\n",
            "\u001b[?25l  Downloading https://files.pythonhosted.org/packages/9f/3d/7a6b68b631d2ab54975f3a4863f3c4e9b26445353264ef01f465dc9b0208/tqdm-4.32.2-py2.py3-none-any.whl (50kB)\n",
            "\u001b[K     |████████████████████████████████| 51kB 4.4MB/s \n",
            "\u001b[?25hCollecting wget==3.2\n",
            "  Downloading https://files.pythonhosted.org/packages/47/6a/62e288da7bcda82b935ff0c6cfe542970f04e29c756b0e147251b2fb251f/wget-3.2.zip\n",
            "Requirement already satisfied: click>=5.1 in /usr/local/lib/python3.7/dist-packages (from Flask==1.1.1->cdqa) (7.1.2)\n",
            "Requirement already satisfied: itsdangerous>=0.24 in /usr/local/lib/python3.7/dist-packages (from Flask==1.1.1->cdqa) (1.1.0)\n",
            "Requirement already satisfied: Jinja2>=2.10.1 in /usr/local/lib/python3.7/dist-packages (from Flask==1.1.1->cdqa) (2.11.3)\n",
            "Requirement already satisfied: Werkzeug>=0.15 in /usr/local/lib/python3.7/dist-packages (from Flask==1.1.1->cdqa) (1.0.1)\n",
            "Requirement already satisfied: Six in /usr/local/lib/python3.7/dist-packages (from flask_cors==3.0.8->cdqa) (1.15.0)\n",
            "Requirement already satisfied: numpy>=1.13.3 in /usr/local/lib/python3.7/dist-packages (from pandas==0.25.0->cdqa) (1.19.5)\n",
            "Requirement already satisfied: python-dateutil>=2.6.1 in /usr/local/lib/python3.7/dist-packages (from pandas==0.25.0->cdqa) (2.8.1)\n",
            "Requirement already satisfied: pytz>=2017.2 in /usr/local/lib/python3.7/dist-packages (from pandas==0.25.0->cdqa) (2018.9)\n",
            "Collecting sacremoses\n",
            "\u001b[?25l  Downloading https://files.pythonhosted.org/packages/7d/34/09d19aff26edcc8eb2a01bed8e98f13a1537005d31e95233fd48216eed10/sacremoses-0.0.43.tar.gz (883kB)\n",
            "\u001b[K     |████████████████████████████████| 890kB 39.3MB/s \n",
            "\u001b[?25hCollecting boto3\n",
            "\u001b[?25l  Downloading https://files.pythonhosted.org/packages/03/e1/8a4e2ed00dbbeec3cd69ac8a91ce4183c278ecd3ce3c80322212afb9de95/boto3-1.17.39.tar.gz (99kB)\n",
            "\u001b[K     |████████████████████████████████| 102kB 8.6MB/s \n",
            "\u001b[?25hCollecting sentencepiece\n",
            "\u001b[?25l  Downloading https://files.pythonhosted.org/packages/f5/99/e0808cb947ba10f575839c43e8fafc9cc44e4a7a2c8f79c60db48220a577/sentencepiece-0.1.95-cp37-cp37m-manylinux2014_x86_64.whl (1.2MB)\n",
            "\u001b[K     |████████████████████████████████| 1.2MB 40.0MB/s \n",
            "\u001b[?25hRequirement already satisfied: requests in /usr/local/lib/python3.7/dist-packages (from transformers==2.1.1->cdqa) (2.23.0)\n",
            "Requirement already satisfied: regex in /usr/local/lib/python3.7/dist-packages (from transformers==2.1.1->cdqa) (2019.12.20)\n",
            "Requirement already satisfied: scipy>=0.17.0 in /usr/local/lib/python3.7/dist-packages (from scikit_learn==0.21.2->cdqa) (1.4.1)\n",
            "Requirement already satisfied: setuptools in /usr/local/lib/python3.7/dist-packages (from tika==1.19->cdqa) (54.1.2)\n",
            "Requirement already satisfied: MarkupSafe>=0.23 in /usr/local/lib/python3.7/dist-packages (from Jinja2>=2.10.1->Flask==1.1.1->cdqa) (1.1.1)\n",
            "Collecting botocore<1.21.0,>=1.20.39\n",
            "\u001b[?25l  Downloading https://files.pythonhosted.org/packages/72/ad/abdc982cb695a20764df007a2d7cb0ac8964c9591fd014006e40334e4a74/botocore-1.20.39-py2.py3-none-any.whl (7.3MB)\n",
            "\u001b[K     |████████████████████████████████| 7.3MB 38.5MB/s \n",
            "\u001b[?25hCollecting jmespath<1.0.0,>=0.7.1\n",
            "  Downloading https://files.pythonhosted.org/packages/07/cb/5f001272b6faeb23c1c9e0acc04d48eaaf5c862c17709d20e3469c6e0139/jmespath-0.10.0-py2.py3-none-any.whl\n",
            "Collecting s3transfer<0.4.0,>=0.3.0\n",
            "\u001b[?25l  Downloading https://files.pythonhosted.org/packages/98/14/0b4be62b65c52d6d1c442f24e02d2a9889a73d3c352002e14c70f84a679f/s3transfer-0.3.6-py2.py3-none-any.whl (73kB)\n",
            "\u001b[K     |████████████████████████████████| 81kB 8.0MB/s \n",
            "\u001b[?25hRequirement already satisfied: chardet<4,>=3.0.2 in /usr/local/lib/python3.7/dist-packages (from requests->transformers==2.1.1->cdqa) (3.0.4)\n",
            "Requirement already satisfied: urllib3!=1.25.0,!=1.25.1,<1.26,>=1.21.1 in /usr/local/lib/python3.7/dist-packages (from requests->transformers==2.1.1->cdqa) (1.24.3)\n",
            "Requirement already satisfied: certifi>=2017.4.17 in /usr/local/lib/python3.7/dist-packages (from requests->transformers==2.1.1->cdqa) (2020.12.5)\n",
            "Requirement already satisfied: idna<3,>=2.5 in /usr/local/lib/python3.7/dist-packages (from requests->transformers==2.1.1->cdqa) (2.10)\n",
            "Building wheels for collected packages: cdqa, prettytable, tika, wget, sacremoses, boto3\n",
            "  Building wheel for cdqa (setup.py) ... \u001b[?25l\u001b[?25hdone\n",
            "  Created wheel for cdqa: filename=cdqa-1.3.9-cp37-none-any.whl size=47640 sha256=3d736b1f2e95f4e35cb6619f037c3e6d9e36e9d2f2fca963035f01ed1aa72115\n",
            "  Stored in directory: /root/.cache/pip/wheels/8b/9a/68/d3f7651ea29c30d1bebc9e946bf5a8cf922e1c86fb6b8a33d9\n",
            "  Building wheel for prettytable (setup.py) ... \u001b[?25l\u001b[?25hdone\n",
            "  Created wheel for prettytable: filename=prettytable-0.7.2-cp37-none-any.whl size=13700 sha256=bea04879f89f150465d312186b94ec3f5f2b7b9db784f58a4cadc9de640804fe\n",
            "  Stored in directory: /root/.cache/pip/wheels/80/34/1c/3967380d9676d162cb59513bd9dc862d0584e045a162095606\n",
            "  Building wheel for tika (setup.py) ... \u001b[?25l\u001b[?25hdone\n",
            "  Created wheel for tika: filename=tika-1.19-cp37-none-any.whl size=29224 sha256=cd0ae16f29d0c8caa6b9060654b921feea7bae4cfbde7e5539ddd8696f215891\n",
            "  Stored in directory: /root/.cache/pip/wheels/b4/db/8a/3a3f0c0725448eaa92703e3dda71e29dc13a119ff6c1036848\n",
            "  Building wheel for wget (setup.py) ... \u001b[?25l\u001b[?25hdone\n",
            "  Created wheel for wget: filename=wget-3.2-cp37-none-any.whl size=9681 sha256=7ba1574bd7f2936d13acebe8ba99e5022b81f06f6422bb0ee4b575686db6ba46\n",
            "  Stored in directory: /root/.cache/pip/wheels/40/15/30/7d8f7cea2902b4db79e3fea550d7d7b85ecb27ef992b618f3f\n",
            "  Building wheel for sacremoses (setup.py) ... \u001b[?25l\u001b[?25hdone\n",
            "  Created wheel for sacremoses: filename=sacremoses-0.0.43-cp37-none-any.whl size=893262 sha256=138c8aa7d124e3fae601205a3e41caf355420c6c1ed91e50109ff43748ac81c4\n",
            "  Stored in directory: /root/.cache/pip/wheels/29/3c/fd/7ce5c3f0666dab31a50123635e6fb5e19ceb42ce38d4e58f45\n",
            "  Building wheel for boto3 (setup.py) ... \u001b[?25l\u001b[?25hdone\n",
            "  Created wheel for boto3: filename=boto3-1.17.39-py2.py3-none-any.whl size=128779 sha256=f71224caed0159cf840e875b5f27dbcc36c10e862087285937cbf4d9bca138a8\n",
            "  Stored in directory: /root/.cache/pip/wheels/c6/45/42/48c8efe6fd9d2a4fc10ebd8fb742853526f29aa380514714b5\n",
            "Successfully built cdqa prettytable tika wget sacremoses boto3\n",
            "\u001b[31mERROR: umap-learn 0.5.1 has requirement scikit-learn>=0.22, but you'll have scikit-learn 0.21.2 which is incompatible.\u001b[0m\n",
            "\u001b[31mERROR: torchvision 0.9.0+cu101 has requirement torch==1.8.0, but you'll have torch 1.2.0 which is incompatible.\u001b[0m\n",
            "\u001b[31mERROR: torchtext 0.9.0 has requirement torch==1.8.0, but you'll have torch 1.2.0 which is incompatible.\u001b[0m\n",
            "\u001b[31mERROR: spacy 2.2.4 has requirement tqdm<5.0.0,>=4.38.0, but you'll have tqdm 4.32.2 which is incompatible.\u001b[0m\n",
            "\u001b[31mERROR: librosa 0.8.0 has requirement joblib>=0.14, but you'll have joblib 0.13.2 which is incompatible.\u001b[0m\n",
            "\u001b[31mERROR: google-colab 1.0.0 has requirement pandas~=1.1.0; python_version >= \"3.0\", but you'll have pandas 0.25.0 which is incompatible.\u001b[0m\n",
            "\u001b[31mERROR: fbprophet 0.7.1 has requirement pandas>=1.0.4, but you'll have pandas 0.25.0 which is incompatible.\u001b[0m\n",
            "\u001b[31mERROR: fbprophet 0.7.1 has requirement tqdm>=4.36.1, but you'll have tqdm 4.32.2 which is incompatible.\u001b[0m\n",
            "\u001b[31mERROR: botocore 1.20.39 has requirement urllib3<1.27,>=1.25.4, but you'll have urllib3 1.24.3 which is incompatible.\u001b[0m\n",
            "Installing collected packages: Flask, flask-cors, joblib, pandas, prettytable, tqdm, sacremoses, jmespath, botocore, s3transfer, boto3, sentencepiece, transformers, scikit-learn, tika, torch, markdown, wget, cdqa\n",
            "  Found existing installation: Flask 1.1.2\n",
            "    Uninstalling Flask-1.1.2:\n",
            "      Successfully uninstalled Flask-1.1.2\n",
            "  Found existing installation: joblib 1.0.1\n",
            "    Uninstalling joblib-1.0.1:\n",
            "      Successfully uninstalled joblib-1.0.1\n",
            "  Found existing installation: pandas 1.1.5\n",
            "    Uninstalling pandas-1.1.5:\n",
            "      Successfully uninstalled pandas-1.1.5\n",
            "  Found existing installation: prettytable 2.1.0\n",
            "    Uninstalling prettytable-2.1.0:\n",
            "      Successfully uninstalled prettytable-2.1.0\n",
            "  Found existing installation: tqdm 4.41.1\n",
            "    Uninstalling tqdm-4.41.1:\n",
            "      Successfully uninstalled tqdm-4.41.1\n",
            "  Found existing installation: scikit-learn 0.22.2.post1\n",
            "    Uninstalling scikit-learn-0.22.2.post1:\n",
            "      Successfully uninstalled scikit-learn-0.22.2.post1\n",
            "  Found existing installation: torch 1.8.0+cu101\n",
            "    Uninstalling torch-1.8.0+cu101:\n",
            "      Successfully uninstalled torch-1.8.0+cu101\n",
            "  Found existing installation: Markdown 3.3.4\n",
            "    Uninstalling Markdown-3.3.4:\n",
            "      Successfully uninstalled Markdown-3.3.4\n",
            "Successfully installed Flask-1.1.1 boto3-1.17.39 botocore-1.20.39 cdqa-1.3.9 flask-cors-3.0.8 jmespath-0.10.0 joblib-0.13.2 markdown-3.1.1 pandas-0.25.0 prettytable-0.7.2 s3transfer-0.3.6 sacremoses-0.0.43 scikit-learn-0.21.2 sentencepiece-0.1.95 tika-1.19 torch-1.2.0 tqdm-4.32.2 transformers-2.1.1 wget-3.2\n"
          ],
          "name": "stdout"
        },
        {
          "output_type": "display_data",
          "data": {
            "application/vnd.colab-display-data+json": {
              "pip_warning": {
                "packages": [
                  "pandas"
                ]
              }
            }
          },
          "metadata": {
            "tags": []
          }
        }
      ]
    },
    {
      "cell_type": "code",
      "metadata": {
        "colab": {
          "base_uri": "https://localhost:8080/"
        },
        "id": "7oZkb96I9XT2",
        "outputId": "878e21a8-fe9d-4236-c217-2a85881b01ba"
      },
      "source": [
        "import os\n",
        "import pandas as pd\n",
        "from ast import literal_eval\n",
        "\n",
        "from cdqa.utils.converters import pdf_converter\n",
        "from cdqa.utils.filters import filter_paragraphs\n",
        "from cdqa.pipeline import QAPipeline\n",
        "from cdqa.utils.download import download_model"
      ],
      "execution_count": 1,
      "outputs": [
        {
          "output_type": "stream",
          "text": [
            "/usr/local/lib/python3.7/dist-packages/tqdm/autonotebook/__init__.py:18: TqdmExperimentalWarning: Using `tqdm.autonotebook.tqdm` in notebook mode. Use `tqdm.tqdm` instead to force console mode (e.g. in jupyter console)\n",
            "  \" (e.g. in jupyter console)\", TqdmExperimentalWarning)\n"
          ],
          "name": "stderr"
        }
      ]
    },
    {
      "cell_type": "code",
      "metadata": {
        "colab": {
          "base_uri": "https://localhost:8080/"
        },
        "id": "KR8wAqae-vyT",
        "outputId": "c8b817bc-dc39-46e6-d117-32abd4ff9958"
      },
      "source": [
        "download_model(model='bert-squad_1.1', dir='./models')"
      ],
      "execution_count": 2,
      "outputs": [
        {
          "output_type": "stream",
          "text": [
            "\n",
            "Downloading trained model...\n",
            "bert_qa.joblib already downloaded\n"
          ],
          "name": "stdout"
        }
      ]
    },
    {
      "cell_type": "code",
      "metadata": {
        "id": "FMZhqsdR_AEP"
      },
      "source": [
        "mkdir -p ./data/amazon/"
      ],
      "execution_count": 3,
      "outputs": []
    },
    {
      "cell_type": "code",
      "metadata": {
        "colab": {
          "base_uri": "https://localhost:8080/"
        },
        "id": "65nnxIqbD3Qb",
        "outputId": "b3cf9b39-ccaf-4f78-dd2f-7eaaf456a55e"
      },
      "source": [
        "ls data/amazon"
      ],
      "execution_count": 5,
      "outputs": [
        {
          "output_type": "stream",
          "text": [
            "Amazon-Q4-2020-Earnings-Release.pdf  AMZN-Q3-2020-Earnings-Release.pdf\n",
            "AMZN-Q1-2020-Earnings-Release.pdf    Q2-2020-Amazon-Earnings-Release.pdf\n"
          ],
          "name": "stdout"
        }
      ]
    },
    {
      "cell_type": "code",
      "metadata": {
        "colab": {
          "base_uri": "https://localhost:8080/"
        },
        "id": "8JlS2jGLD5UN",
        "outputId": "015d1b65-82b7-4270-d2aa-94b79e5d8b5b"
      },
      "source": [
        "!wget -P ./data/amazon/ https://s2.q4cdn.com/299287126/files/doc_financials/2020/q4/Amazon-Q4-2020-Earnings-Release.pdf\n",
        "!wget -P ./data/amazon/ https://s2.q4cdn.com/299287126/files/doc_financials/2020/q3/AMZN-Q3-2020-Earnings-Release.pdf\n",
        "!wget -P ./data/amazon/ https://s2.q4cdn.com/299287126/files/doc_financials/2020/q2/Q2-2020-Amazon-Earnings-Release.pdf\n",
        "!wget -P ./data/amazon/ https://s2.q4cdn.com/299287126/files/doc_financials/2020/Q1/AMZN-Q1-2020-Earnings-Release.pdf"
      ],
      "execution_count": 9,
      "outputs": [
        {
          "output_type": "stream",
          "text": [
            "--2021-03-27 09:44:53--  https://s2.q4cdn.com/299287126/files/doc_financials/2020/q4/Amazon-Q4-2020-Earnings-Release.pdf\n",
            "Resolving s2.q4cdn.com (s2.q4cdn.com)... 167.114.174.191\n",
            "Connecting to s2.q4cdn.com (s2.q4cdn.com)|167.114.174.191|:443... connected.\n",
            "HTTP request sent, awaiting response... 200 OK\n",
            "Length: 869995 (850K) [application/pdf]\n",
            "Saving to: ‘./data/amazon/Amazon-Q4-2020-Earnings-Release.pdf’\n",
            "\n",
            "Amazon-Q4-2020-Earn 100%[===================>] 849.60K   888KB/s    in 1.0s    \n",
            "\n",
            "2021-03-27 09:44:55 (888 KB/s) - ‘./data/amazon/Amazon-Q4-2020-Earnings-Release.pdf’ saved [869995/869995]\n",
            "\n",
            "--2021-03-27 09:44:55--  https://s2.q4cdn.com/299287126/files/doc_financials/2020/q3/AMZN-Q3-2020-Earnings-Release.pdf\n",
            "Resolving s2.q4cdn.com (s2.q4cdn.com)... 167.114.174.191\n",
            "Connecting to s2.q4cdn.com (s2.q4cdn.com)|167.114.174.191|:443... connected.\n",
            "HTTP request sent, awaiting response... 200 OK\n",
            "Length: 945573 (923K) [application/pdf]\n",
            "Saving to: ‘./data/amazon/AMZN-Q3-2020-Earnings-Release.pdf’\n",
            "\n",
            "AMZN-Q3-2020-Earnin 100%[===================>] 923.41K   832KB/s    in 1.1s    \n",
            "\n",
            "2021-03-27 09:44:57 (832 KB/s) - ‘./data/amazon/AMZN-Q3-2020-Earnings-Release.pdf’ saved [945573/945573]\n",
            "\n",
            "--2021-03-27 09:44:57--  https://s2.q4cdn.com/299287126/files/doc_financials/2020/q2/Q2-2020-Amazon-Earnings-Release.pdf\n",
            "Resolving s2.q4cdn.com (s2.q4cdn.com)... 167.114.174.191\n",
            "Connecting to s2.q4cdn.com (s2.q4cdn.com)|167.114.174.191|:443... connected.\n",
            "HTTP request sent, awaiting response... 200 OK\n",
            "Length: 366951 (358K) [application/pdf]\n",
            "Saving to: ‘./data/amazon/Q2-2020-Amazon-Earnings-Release.pdf’\n",
            "\n",
            "Q2-2020-Amazon-Earn 100%[===================>] 358.35K   480KB/s    in 0.7s    \n",
            "\n",
            "2021-03-27 09:44:59 (480 KB/s) - ‘./data/amazon/Q2-2020-Amazon-Earnings-Release.pdf’ saved [366951/366951]\n",
            "\n",
            "--2021-03-27 09:44:59--  https://s2.q4cdn.com/299287126/files/doc_financials/2020/Q1/AMZN-Q1-2020-Earnings-Release.pdf\n",
            "Resolving s2.q4cdn.com (s2.q4cdn.com)... 167.114.174.41\n",
            "Connecting to s2.q4cdn.com (s2.q4cdn.com)|167.114.174.41|:443... connected.\n",
            "HTTP request sent, awaiting response... 200 OK\n",
            "Length: 536732 (524K) [application/pdf]\n",
            "Saving to: ‘./data/amazon/AMZN-Q1-2020-Earnings-Release.pdf’\n",
            "\n",
            "AMZN-Q1-2020-Earnin 100%[===================>] 524.15K   564KB/s    in 0.9s    \n",
            "\n",
            "2021-03-27 09:45:00 (564 KB/s) - ‘./data/amazon/AMZN-Q1-2020-Earnings-Release.pdf’ saved [536732/536732]\n",
            "\n"
          ],
          "name": "stdout"
        }
      ]
    },
    {
      "cell_type": "code",
      "metadata": {
        "colab": {
          "base_uri": "https://localhost:8080/",
          "height": 173
        },
        "id": "5sHa8q2yEqhC",
        "outputId": "47ba0912-7d4d-4679-9218-d2de52570ef3"
      },
      "source": [
        "#specify data path\n",
        "df = pdf_converter(directory_path='./data/amazon/')\n",
        "df.head()"
      ],
      "execution_count": 6,
      "outputs": [
        {
          "output_type": "execute_result",
          "data": {
            "text/html": [
              "<div>\n",
              "<style scoped>\n",
              "    .dataframe tbody tr th:only-of-type {\n",
              "        vertical-align: middle;\n",
              "    }\n",
              "\n",
              "    .dataframe tbody tr th {\n",
              "        vertical-align: top;\n",
              "    }\n",
              "\n",
              "    .dataframe thead th {\n",
              "        text-align: right;\n",
              "    }\n",
              "</style>\n",
              "<table border=\"1\" class=\"dataframe\">\n",
              "  <thead>\n",
              "    <tr style=\"text-align: right;\">\n",
              "      <th></th>\n",
              "      <th>title</th>\n",
              "      <th>paragraphs</th>\n",
              "    </tr>\n",
              "  </thead>\n",
              "  <tbody>\n",
              "    <tr>\n",
              "      <th>0</th>\n",
              "      <td>Q2-2020-Amazon-Earnings-Release</td>\n",
              "      <td>[AMZN-2020.06.30-EX99.1 AMAZON.COM ANNOUNCES S...</td>\n",
              "    </tr>\n",
              "    <tr>\n",
              "      <th>1</th>\n",
              "      <td>Amazon-Q4-2020-Earnings-Release</td>\n",
              "      <td>[Microsoft Word - AMZN-2020.12.31-EX99.1_02022...</td>\n",
              "    </tr>\n",
              "    <tr>\n",
              "      <th>2</th>\n",
              "      <td>AMZN-Q3-2020-Earnings-Release</td>\n",
              "      <td>[Microsoft Word - AMZN-Q3-2020-Earnings-Releas...</td>\n",
              "    </tr>\n",
              "    <tr>\n",
              "      <th>3</th>\n",
              "      <td>AMZN-Q1-2020-Earnings-Release</td>\n",
              "      <td>[Microsoft Word - Earnings Release_4.30.20_12P...</td>\n",
              "    </tr>\n",
              "  </tbody>\n",
              "</table>\n",
              "</div>"
            ],
            "text/plain": [
              "                             title                                         paragraphs\n",
              "0  Q2-2020-Amazon-Earnings-Release  [AMZN-2020.06.30-EX99.1 AMAZON.COM ANNOUNCES S...\n",
              "1  Amazon-Q4-2020-Earnings-Release  [Microsoft Word - AMZN-2020.12.31-EX99.1_02022...\n",
              "2    AMZN-Q3-2020-Earnings-Release  [Microsoft Word - AMZN-Q3-2020-Earnings-Releas...\n",
              "3    AMZN-Q1-2020-Earnings-Release  [Microsoft Word - Earnings Release_4.30.20_12P..."
            ]
          },
          "metadata": {
            "tags": []
          },
          "execution_count": 6
        }
      ]
    },
    {
      "cell_type": "code",
      "metadata": {
        "colab": {
          "base_uri": "https://localhost:8080/"
        },
        "id": "jQeh8ahmGG1j",
        "outputId": "14821ac0-6471-4a09-ee7d-ddfa282323de"
      },
      "source": [
        "#Use Pre Defined Readering Models to train the data prediction\n",
        "cdqa_pipeline = QAPipeline(reader='./models/bert_qa.joblib', max_df=1.0)\n",
        "\n",
        "# Fit Retriever to documents\n",
        "cdqa_pipeline.fit_retriever(df=df)"
      ],
      "execution_count": 7,
      "outputs": [
        {
          "output_type": "stream",
          "text": [
            "100%|██████████| 231508/231508 [00:00<00:00, 322812.32B/s]\n"
          ],
          "name": "stderr"
        },
        {
          "output_type": "execute_result",
          "data": {
            "text/plain": [
              "QAPipeline(reader=BertQA(adam_epsilon=1e-08, bert_model='bert-base-uncased',\n",
              "                         do_lower_case=True, fp16=False,\n",
              "                         gradient_accumulation_steps=1, learning_rate=5e-05,\n",
              "                         local_rank=-1, loss_scale=0, max_answer_length=30,\n",
              "                         n_best_size=20, no_cuda=False,\n",
              "                         null_score_diff_threshold=0.0, num_train_epochs=3.0,\n",
              "                         output_dir=None, predict_batch_size=8, seed=42,\n",
              "                         server_ip='', server_po..._size=8,\n",
              "                         verbose_logging=False, version_2_with_negative=False,\n",
              "                         warmup_proportion=0.1, warmup_steps=0),\n",
              "           retrieve_by_doc=False,\n",
              "           retriever=BM25Retriever(b=0.75, floor=None, k1=2.0, lowercase=True,\n",
              "                                   max_df=1.0, min_df=2, ngram_range=(1, 2),\n",
              "                                   preprocessor=None, stop_words='english',\n",
              "                                   token_pattern='(?u)\\\\b\\\\w\\\\w+\\\\b',\n",
              "                                   tokenizer=None, top_n=20, verbose=False,\n",
              "                                   vocabulary=None))"
            ]
          },
          "metadata": {
            "tags": []
          },
          "execution_count": 0
        }
      ]
    },
    {
      "cell_type": "code",
      "metadata": {
        "id": "WCWe8YOdGRH8"
      },
      "source": [
        "#Question \n",
        "query = 'how was third quarter net sales?'\n",
        "prediction = cdqa_pipeline.predict(query,4)\n",
        "#following prints the prediction based on question asked. stating what is the answer and where it found it.\n",
        "# print('query: {}'.format(query))\n",
        "# print('answer: {}'.format(prediction[0]))\n",
        "# print('title: {}'.format(prediction[1]))\n",
        "# print('paragraph: {}'.format(prediction[2]))"
      ],
      "execution_count": 11,
      "outputs": []
    },
    {
      "cell_type": "code",
      "metadata": {
        "colab": {
          "base_uri": "https://localhost:8080/"
        },
        "id": "AwOVdWmzH8Am",
        "outputId": "f9933a5d-1147-42ce-efbf-b54251a6d32f"
      },
      "source": [
        "prediction"
      ],
      "execution_count": 12,
      "outputs": [
        {
          "output_type": "execute_result",
          "data": {
            "text/plain": [
              "[('increased 27%',\n",
              "  'AMZN-Q1-2020-Earnings-Release',\n",
              "  'SEATTLE—(BUSINESS WIRE) April 30, 2020—Amazon.com, Inc. (NASDAQ: AMZN) today announced financial results for its first quarter ended March 31, 2020.  •  Operating cash flow increased 16% to $39.7 billion for the trailing twelve months, compared with $34.4 billion for the trailing twelve months ended March 31, 2019. •  Free cash flow increased to $24.3 billion for the trailing twelve months, compared with $23.0 billion for the trailing twelve months ended March 31, 2019. •  Free cash flow less principal repayments of finance leases and financing obligations decreased to $14.3 billion for the trailing twelve months, compared with $15.1 billion for the trailing twelve months ended March 31, 2019. •  Free cash flow less equipment finance leases and principal repayments of all other finance leases and financing obligations decreased to $11.7 billion for the trailing twelve months, compared with $11.8 billion for the trailing twelve months ended March 31, 2019. •  Common shares outstanding plus shares underlying stock-based awards totaled 513 million on March 31, 2020, compared with 507 million one year ago. •  Net sales increased 26% to $75.5 billion in the first quarter, compared with $59.7 billion in first quarter 2019. Excluding the $387 million unfavorable impact from year-over-year changes in foreign exchange rates throughout the quarter, net sales increased 27% compared with first quarter 2019. •  Operating income decreased to $4.0 billion in the first quarter, compared with operating income of $4.4 billion in first quarter 2019. •  Net income decreased to $2.5 billion in the first quarter, or $5.01 per diluted share, compared with net income of $3.6 billion, or $7.09 per diluted share, in first quarter 2019.  “From online shopping to AWS to Prime Video and Fire TV, the current crisis is demonstrating the adaptability and durability of Amazon’s business as never before, but it’s also the hardest time we’ve ever faced,” said Jeff Bezos, Amazon founder and ',\n",
              "  10.986041529398396),\n",
              " ('increased 41%',\n",
              "  'Q2-2020-Amazon-Earnings-Release',\n",
              "  'SEATTLE—(BUSINESS WIRE) July 30, 2020—Amazon.com, Inc. (NASDAQ: AMZN) today announced financial results for its second quarter ended June 30, 2020. • Operating cash flow increased 42% to $51.2 billion for the trailing twelve months, compared with $36.0 billion for the trailing twelve months ended June 30, 2019. • Free cash flow increased to $31.9 billion for the trailing twelve months, compared with $25.0 billion for the trailing twelve months ended June 30, 2019. • Free cash flow less principal repayments of finance leases and financing obligations increased to $21.3 billion for the trailing twelve months, compared with $16.1 billion for the trailing twelve months ended June 30, 2019. • Free cash flow less equipment finance leases and principal repayments of all other finance leases and financing obligations increased to $19.4 billion for the trailing twelve months, compared with $13.0 billion for the trailing twelve months ended June 30, 2019.• Common shares outstanding plus shares underlying stock-based awards totaled 517 million on June 30, 2020, compared with 510 million one year ago.• Net sales increased 40% to $88.9 billion in the second quarter, compared with $63.4 billion in second quarter 2019. Excluding the $582 million unfavorable impact from year-over-year changes in foreign exchange rates throughout the quarter, net sales increased 41% compared with second quarter 2019.• Operating income increased to $5.8 billion in the second quarter, compared with operating income of $3.1 billion in second quarter 2019. • Net income increased to $5.2 billion in the second quarter, or $10.30 per diluted share, compared with net income of $2.6 billion, or $5.22 per diluted share, in second quarter 2019. “This was another highly unusual quarter, and I couldn’t be more proud of and grateful to our employees around the globe,” said Jeff Bezos, Amazon founder and CEO. “As expected, we spent over $4 billion on incremental COVID-19-related costs in the quarter to help keep employees safe and deliver products to customers in this time of high demand—purchasing personal protective equipment, increasing cleaning of our facilities, following new safety process paths, adding new backup family care benefits, and paying a special thank you bonus of over $500 million to front-line employees and delivery partners. We’ve created over 175,000 new jobs since March and are in the process of bringing 125,000 of these employees into regular, full-time positions. And third-party sales again grew faster this quarter than Amazon’s first-party sales. Lastly, even in this unpredictable time, we injected significant money into the economy this quarter, investing over $9 billion in capital projects, including fulfillment, transportation, and AWS.”',\n",
              "  10.679502594686578),\n",
              " ('increased 44%',\n",
              "  'Amazon-Q4-2020-Earnings-Release',\n",
              "  'Fourth Quarter 2020 • Net sales increased 44% to $125.6 billion in the fourth quarter, compared with $87.4 billion in fourth quarter 2019. Excluding the $1.7 billion favorable impact from year-over-year changes in foreign exchange rates throughout the quarter, net sales increased 42% compared with fourth quarter 2019. • Operating income increased to $6.9 billion in the fourth quarter, compared with operating income of $3.9 billion in fourth quarter 2019.  • Net income increased to $7.2 billion in the fourth quarter, or $14.09 per diluted share, compared with net income of $3.3 billion, or $6.47 per diluted share, in fourth quarter 2019.  ',\n",
              "  10.508267638799655),\n",
              " ('grow between 24% and 33%',\n",
              "  'Q2-2020-Amazon-Earnings-Release',\n",
              "  'Third Quarter 2020 Guidance• Net sales are expected to be between $87.0 billion and $93.0 billion, or to grow between 24% and 33% compared with third quarter 2019. This guidance anticipates an unfavorable impact of approximately 20 basis points from foreign exchange rates. • Operating income is expected to be between $2.0 billion and $5.0 billion, compared with $3.2 billion in third quarter 2019. This guidance assumes more than $2.0 billion of costs related to COVID-19. • This guidance assumes, among other things, that no additional business acquisitions, investments, restructurings, or legal settlements are concluded.',\n",
              "  9.29695319404136)]"
            ]
          },
          "metadata": {
            "tags": []
          },
          "execution_count": 12
        }
      ]
    }
  ]
}