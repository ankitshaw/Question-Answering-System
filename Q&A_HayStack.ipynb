{
  "nbformat": 4,
  "nbformat_minor": 0,
  "metadata": {
    "colab": {
      "name": "Q&A-HayStack.ipynb",
      "provenance": [],
      "collapsed_sections": []
    },
    "kernelspec": {
      "display_name": "Python 3",
      "name": "python3"
    },
    "language_info": {
      "name": "python"
    },
    "accelerator": "GPU",
    "widgets": {
      "application/vnd.jupyter.widget-state+json": {
        "965ff97e863243f1bf1dd83dd84dfb07": {
          "model_module": "@jupyter-widgets/controls",
          "model_name": "HBoxModel",
          "state": {
            "_view_name": "HBoxView",
            "_dom_classes": [],
            "_model_name": "HBoxModel",
            "_view_module": "@jupyter-widgets/controls",
            "_model_module_version": "1.5.0",
            "_view_count": null,
            "_view_module_version": "1.5.0",
            "box_style": "",
            "layout": "IPY_MODEL_d0b9647aee16490ca2fbd4082653eaa6",
            "_model_module": "@jupyter-widgets/controls",
            "children": [
              "IPY_MODEL_f59fb479c08045e2895f045fbffa86c0",
              "IPY_MODEL_47ea6a473f534da59c852099a9f22e15"
            ]
          }
        },
        "d0b9647aee16490ca2fbd4082653eaa6": {
          "model_module": "@jupyter-widgets/base",
          "model_name": "LayoutModel",
          "state": {
            "_view_name": "LayoutView",
            "grid_template_rows": null,
            "right": null,
            "justify_content": null,
            "_view_module": "@jupyter-widgets/base",
            "overflow": null,
            "_model_module_version": "1.2.0",
            "_view_count": null,
            "flex_flow": null,
            "width": null,
            "min_width": null,
            "border": null,
            "align_items": null,
            "bottom": null,
            "_model_module": "@jupyter-widgets/base",
            "top": null,
            "grid_column": null,
            "overflow_y": null,
            "overflow_x": null,
            "grid_auto_flow": null,
            "grid_area": null,
            "grid_template_columns": null,
            "flex": null,
            "_model_name": "LayoutModel",
            "justify_items": null,
            "grid_row": null,
            "max_height": null,
            "align_content": null,
            "visibility": null,
            "align_self": null,
            "height": null,
            "min_height": null,
            "padding": null,
            "grid_auto_rows": null,
            "grid_gap": null,
            "max_width": null,
            "order": null,
            "_view_module_version": "1.2.0",
            "grid_template_areas": null,
            "object_position": null,
            "object_fit": null,
            "grid_auto_columns": null,
            "margin": null,
            "display": null,
            "left": null
          }
        },
        "f59fb479c08045e2895f045fbffa86c0": {
          "model_module": "@jupyter-widgets/controls",
          "model_name": "FloatProgressModel",
          "state": {
            "_view_name": "ProgressView",
            "style": "IPY_MODEL_c685ee87dea2494eac92bdb91fc1df09",
            "_dom_classes": [],
            "description": "Downloading: 100%",
            "_model_name": "FloatProgressModel",
            "bar_style": "success",
            "max": 571,
            "_view_module": "@jupyter-widgets/controls",
            "_model_module_version": "1.5.0",
            "value": 571,
            "_view_count": null,
            "_view_module_version": "1.5.0",
            "orientation": "horizontal",
            "min": 0,
            "description_tooltip": null,
            "_model_module": "@jupyter-widgets/controls",
            "layout": "IPY_MODEL_17b582c5a31e430b95057228e513a2db"
          }
        },
        "47ea6a473f534da59c852099a9f22e15": {
          "model_module": "@jupyter-widgets/controls",
          "model_name": "HTMLModel",
          "state": {
            "_view_name": "HTMLView",
            "style": "IPY_MODEL_9cb32058a4c44d9196280d21a814237d",
            "_dom_classes": [],
            "description": "",
            "_model_name": "HTMLModel",
            "placeholder": "​",
            "_view_module": "@jupyter-widgets/controls",
            "_model_module_version": "1.5.0",
            "value": " 571/571 [00:00&lt;00:00, 2.46kB/s]",
            "_view_count": null,
            "_view_module_version": "1.5.0",
            "description_tooltip": null,
            "_model_module": "@jupyter-widgets/controls",
            "layout": "IPY_MODEL_99642c25a95f4c3aa51e408d0b81b93f"
          }
        },
        "c685ee87dea2494eac92bdb91fc1df09": {
          "model_module": "@jupyter-widgets/controls",
          "model_name": "ProgressStyleModel",
          "state": {
            "_view_name": "StyleView",
            "_model_name": "ProgressStyleModel",
            "description_width": "initial",
            "_view_module": "@jupyter-widgets/base",
            "_model_module_version": "1.5.0",
            "_view_count": null,
            "_view_module_version": "1.2.0",
            "bar_color": null,
            "_model_module": "@jupyter-widgets/controls"
          }
        },
        "17b582c5a31e430b95057228e513a2db": {
          "model_module": "@jupyter-widgets/base",
          "model_name": "LayoutModel",
          "state": {
            "_view_name": "LayoutView",
            "grid_template_rows": null,
            "right": null,
            "justify_content": null,
            "_view_module": "@jupyter-widgets/base",
            "overflow": null,
            "_model_module_version": "1.2.0",
            "_view_count": null,
            "flex_flow": null,
            "width": null,
            "min_width": null,
            "border": null,
            "align_items": null,
            "bottom": null,
            "_model_module": "@jupyter-widgets/base",
            "top": null,
            "grid_column": null,
            "overflow_y": null,
            "overflow_x": null,
            "grid_auto_flow": null,
            "grid_area": null,
            "grid_template_columns": null,
            "flex": null,
            "_model_name": "LayoutModel",
            "justify_items": null,
            "grid_row": null,
            "max_height": null,
            "align_content": null,
            "visibility": null,
            "align_self": null,
            "height": null,
            "min_height": null,
            "padding": null,
            "grid_auto_rows": null,
            "grid_gap": null,
            "max_width": null,
            "order": null,
            "_view_module_version": "1.2.0",
            "grid_template_areas": null,
            "object_position": null,
            "object_fit": null,
            "grid_auto_columns": null,
            "margin": null,
            "display": null,
            "left": null
          }
        },
        "9cb32058a4c44d9196280d21a814237d": {
          "model_module": "@jupyter-widgets/controls",
          "model_name": "DescriptionStyleModel",
          "state": {
            "_view_name": "StyleView",
            "_model_name": "DescriptionStyleModel",
            "description_width": "",
            "_view_module": "@jupyter-widgets/base",
            "_model_module_version": "1.5.0",
            "_view_count": null,
            "_view_module_version": "1.2.0",
            "_model_module": "@jupyter-widgets/controls"
          }
        },
        "99642c25a95f4c3aa51e408d0b81b93f": {
          "model_module": "@jupyter-widgets/base",
          "model_name": "LayoutModel",
          "state": {
            "_view_name": "LayoutView",
            "grid_template_rows": null,
            "right": null,
            "justify_content": null,
            "_view_module": "@jupyter-widgets/base",
            "overflow": null,
            "_model_module_version": "1.2.0",
            "_view_count": null,
            "flex_flow": null,
            "width": null,
            "min_width": null,
            "border": null,
            "align_items": null,
            "bottom": null,
            "_model_module": "@jupyter-widgets/base",
            "top": null,
            "grid_column": null,
            "overflow_y": null,
            "overflow_x": null,
            "grid_auto_flow": null,
            "grid_area": null,
            "grid_template_columns": null,
            "flex": null,
            "_model_name": "LayoutModel",
            "justify_items": null,
            "grid_row": null,
            "max_height": null,
            "align_content": null,
            "visibility": null,
            "align_self": null,
            "height": null,
            "min_height": null,
            "padding": null,
            "grid_auto_rows": null,
            "grid_gap": null,
            "max_width": null,
            "order": null,
            "_view_module_version": "1.2.0",
            "grid_template_areas": null,
            "object_position": null,
            "object_fit": null,
            "grid_auto_columns": null,
            "margin": null,
            "display": null,
            "left": null
          }
        },
        "85001fa092b649deacef3d32f9b546b2": {
          "model_module": "@jupyter-widgets/controls",
          "model_name": "HBoxModel",
          "state": {
            "_view_name": "HBoxView",
            "_dom_classes": [],
            "_model_name": "HBoxModel",
            "_view_module": "@jupyter-widgets/controls",
            "_model_module_version": "1.5.0",
            "_view_count": null,
            "_view_module_version": "1.5.0",
            "box_style": "",
            "layout": "IPY_MODEL_c6361df1b7814a06845d41affab9492f",
            "_model_module": "@jupyter-widgets/controls",
            "children": [
              "IPY_MODEL_30922734f4954bf48872ca37aa8da6fd",
              "IPY_MODEL_ab7ac2579b18451aa1577b4fc780ec57"
            ]
          }
        },
        "c6361df1b7814a06845d41affab9492f": {
          "model_module": "@jupyter-widgets/base",
          "model_name": "LayoutModel",
          "state": {
            "_view_name": "LayoutView",
            "grid_template_rows": null,
            "right": null,
            "justify_content": null,
            "_view_module": "@jupyter-widgets/base",
            "overflow": null,
            "_model_module_version": "1.2.0",
            "_view_count": null,
            "flex_flow": null,
            "width": null,
            "min_width": null,
            "border": null,
            "align_items": null,
            "bottom": null,
            "_model_module": "@jupyter-widgets/base",
            "top": null,
            "grid_column": null,
            "overflow_y": null,
            "overflow_x": null,
            "grid_auto_flow": null,
            "grid_area": null,
            "grid_template_columns": null,
            "flex": null,
            "_model_name": "LayoutModel",
            "justify_items": null,
            "grid_row": null,
            "max_height": null,
            "align_content": null,
            "visibility": null,
            "align_self": null,
            "height": null,
            "min_height": null,
            "padding": null,
            "grid_auto_rows": null,
            "grid_gap": null,
            "max_width": null,
            "order": null,
            "_view_module_version": "1.2.0",
            "grid_template_areas": null,
            "object_position": null,
            "object_fit": null,
            "grid_auto_columns": null,
            "margin": null,
            "display": null,
            "left": null
          }
        },
        "30922734f4954bf48872ca37aa8da6fd": {
          "model_module": "@jupyter-widgets/controls",
          "model_name": "FloatProgressModel",
          "state": {
            "_view_name": "ProgressView",
            "style": "IPY_MODEL_aacce240954a4698a27634227bd7cbdd",
            "_dom_classes": [],
            "description": "Downloading: 100%",
            "_model_name": "FloatProgressModel",
            "bar_style": "success",
            "max": 496313727,
            "_view_module": "@jupyter-widgets/controls",
            "_model_module_version": "1.5.0",
            "value": 496313727,
            "_view_count": null,
            "_view_module_version": "1.5.0",
            "orientation": "horizontal",
            "min": 0,
            "description_tooltip": null,
            "_model_module": "@jupyter-widgets/controls",
            "layout": "IPY_MODEL_97a901627f6f4f10bd5dae93ad2e527c"
          }
        },
        "ab7ac2579b18451aa1577b4fc780ec57": {
          "model_module": "@jupyter-widgets/controls",
          "model_name": "HTMLModel",
          "state": {
            "_view_name": "HTMLView",
            "style": "IPY_MODEL_33ae39270a144b9c90d5922d88e42be0",
            "_dom_classes": [],
            "description": "",
            "_model_name": "HTMLModel",
            "placeholder": "​",
            "_view_module": "@jupyter-widgets/controls",
            "_model_module_version": "1.5.0",
            "value": " 496M/496M [00:16&lt;00:00, 30.4MB/s]",
            "_view_count": null,
            "_view_module_version": "1.5.0",
            "description_tooltip": null,
            "_model_module": "@jupyter-widgets/controls",
            "layout": "IPY_MODEL_c3e4eef36d754798b7cfc4ef5f09a2f7"
          }
        },
        "aacce240954a4698a27634227bd7cbdd": {
          "model_module": "@jupyter-widgets/controls",
          "model_name": "ProgressStyleModel",
          "state": {
            "_view_name": "StyleView",
            "_model_name": "ProgressStyleModel",
            "description_width": "initial",
            "_view_module": "@jupyter-widgets/base",
            "_model_module_version": "1.5.0",
            "_view_count": null,
            "_view_module_version": "1.2.0",
            "bar_color": null,
            "_model_module": "@jupyter-widgets/controls"
          }
        },
        "97a901627f6f4f10bd5dae93ad2e527c": {
          "model_module": "@jupyter-widgets/base",
          "model_name": "LayoutModel",
          "state": {
            "_view_name": "LayoutView",
            "grid_template_rows": null,
            "right": null,
            "justify_content": null,
            "_view_module": "@jupyter-widgets/base",
            "overflow": null,
            "_model_module_version": "1.2.0",
            "_view_count": null,
            "flex_flow": null,
            "width": null,
            "min_width": null,
            "border": null,
            "align_items": null,
            "bottom": null,
            "_model_module": "@jupyter-widgets/base",
            "top": null,
            "grid_column": null,
            "overflow_y": null,
            "overflow_x": null,
            "grid_auto_flow": null,
            "grid_area": null,
            "grid_template_columns": null,
            "flex": null,
            "_model_name": "LayoutModel",
            "justify_items": null,
            "grid_row": null,
            "max_height": null,
            "align_content": null,
            "visibility": null,
            "align_self": null,
            "height": null,
            "min_height": null,
            "padding": null,
            "grid_auto_rows": null,
            "grid_gap": null,
            "max_width": null,
            "order": null,
            "_view_module_version": "1.2.0",
            "grid_template_areas": null,
            "object_position": null,
            "object_fit": null,
            "grid_auto_columns": null,
            "margin": null,
            "display": null,
            "left": null
          }
        },
        "33ae39270a144b9c90d5922d88e42be0": {
          "model_module": "@jupyter-widgets/controls",
          "model_name": "DescriptionStyleModel",
          "state": {
            "_view_name": "StyleView",
            "_model_name": "DescriptionStyleModel",
            "description_width": "",
            "_view_module": "@jupyter-widgets/base",
            "_model_module_version": "1.5.0",
            "_view_count": null,
            "_view_module_version": "1.2.0",
            "_model_module": "@jupyter-widgets/controls"
          }
        },
        "c3e4eef36d754798b7cfc4ef5f09a2f7": {
          "model_module": "@jupyter-widgets/base",
          "model_name": "LayoutModel",
          "state": {
            "_view_name": "LayoutView",
            "grid_template_rows": null,
            "right": null,
            "justify_content": null,
            "_view_module": "@jupyter-widgets/base",
            "overflow": null,
            "_model_module_version": "1.2.0",
            "_view_count": null,
            "flex_flow": null,
            "width": null,
            "min_width": null,
            "border": null,
            "align_items": null,
            "bottom": null,
            "_model_module": "@jupyter-widgets/base",
            "top": null,
            "grid_column": null,
            "overflow_y": null,
            "overflow_x": null,
            "grid_auto_flow": null,
            "grid_area": null,
            "grid_template_columns": null,
            "flex": null,
            "_model_name": "LayoutModel",
            "justify_items": null,
            "grid_row": null,
            "max_height": null,
            "align_content": null,
            "visibility": null,
            "align_self": null,
            "height": null,
            "min_height": null,
            "padding": null,
            "grid_auto_rows": null,
            "grid_gap": null,
            "max_width": null,
            "order": null,
            "_view_module_version": "1.2.0",
            "grid_template_areas": null,
            "object_position": null,
            "object_fit": null,
            "grid_auto_columns": null,
            "margin": null,
            "display": null,
            "left": null
          }
        },
        "145440c39aac4f29af19ac84872b2bc4": {
          "model_module": "@jupyter-widgets/controls",
          "model_name": "HBoxModel",
          "state": {
            "_view_name": "HBoxView",
            "_dom_classes": [],
            "_model_name": "HBoxModel",
            "_view_module": "@jupyter-widgets/controls",
            "_model_module_version": "1.5.0",
            "_view_count": null,
            "_view_module_version": "1.5.0",
            "box_style": "",
            "layout": "IPY_MODEL_ef45e79123a74e1786de81fefc4eaa1d",
            "_model_module": "@jupyter-widgets/controls",
            "children": [
              "IPY_MODEL_7b459fd54d4d4f26ab2088228b149930",
              "IPY_MODEL_1f4490a40d6f40cc817256c7b345bbbb"
            ]
          }
        },
        "ef45e79123a74e1786de81fefc4eaa1d": {
          "model_module": "@jupyter-widgets/base",
          "model_name": "LayoutModel",
          "state": {
            "_view_name": "LayoutView",
            "grid_template_rows": null,
            "right": null,
            "justify_content": null,
            "_view_module": "@jupyter-widgets/base",
            "overflow": null,
            "_model_module_version": "1.2.0",
            "_view_count": null,
            "flex_flow": null,
            "width": null,
            "min_width": null,
            "border": null,
            "align_items": null,
            "bottom": null,
            "_model_module": "@jupyter-widgets/base",
            "top": null,
            "grid_column": null,
            "overflow_y": null,
            "overflow_x": null,
            "grid_auto_flow": null,
            "grid_area": null,
            "grid_template_columns": null,
            "flex": null,
            "_model_name": "LayoutModel",
            "justify_items": null,
            "grid_row": null,
            "max_height": null,
            "align_content": null,
            "visibility": null,
            "align_self": null,
            "height": null,
            "min_height": null,
            "padding": null,
            "grid_auto_rows": null,
            "grid_gap": null,
            "max_width": null,
            "order": null,
            "_view_module_version": "1.2.0",
            "grid_template_areas": null,
            "object_position": null,
            "object_fit": null,
            "grid_auto_columns": null,
            "margin": null,
            "display": null,
            "left": null
          }
        },
        "7b459fd54d4d4f26ab2088228b149930": {
          "model_module": "@jupyter-widgets/controls",
          "model_name": "FloatProgressModel",
          "state": {
            "_view_name": "ProgressView",
            "style": "IPY_MODEL_cc4f687808584297b5c93e40a2edf47f",
            "_dom_classes": [],
            "description": "Downloading: 100%",
            "_model_name": "FloatProgressModel",
            "bar_style": "success",
            "max": 898822,
            "_view_module": "@jupyter-widgets/controls",
            "_model_module_version": "1.5.0",
            "value": 898822,
            "_view_count": null,
            "_view_module_version": "1.5.0",
            "orientation": "horizontal",
            "min": 0,
            "description_tooltip": null,
            "_model_module": "@jupyter-widgets/controls",
            "layout": "IPY_MODEL_979e6c637b4649e1bc7f56092cafb357"
          }
        },
        "1f4490a40d6f40cc817256c7b345bbbb": {
          "model_module": "@jupyter-widgets/controls",
          "model_name": "HTMLModel",
          "state": {
            "_view_name": "HTMLView",
            "style": "IPY_MODEL_43f4c020905c4701910f65ea22ec6b71",
            "_dom_classes": [],
            "description": "",
            "_model_name": "HTMLModel",
            "placeholder": "​",
            "_view_module": "@jupyter-widgets/controls",
            "_model_module_version": "1.5.0",
            "value": " 899k/899k [00:00&lt;00:00, 5.29MB/s]",
            "_view_count": null,
            "_view_module_version": "1.5.0",
            "description_tooltip": null,
            "_model_module": "@jupyter-widgets/controls",
            "layout": "IPY_MODEL_716ef0e7719d4b8895e35950dd78790f"
          }
        },
        "cc4f687808584297b5c93e40a2edf47f": {
          "model_module": "@jupyter-widgets/controls",
          "model_name": "ProgressStyleModel",
          "state": {
            "_view_name": "StyleView",
            "_model_name": "ProgressStyleModel",
            "description_width": "initial",
            "_view_module": "@jupyter-widgets/base",
            "_model_module_version": "1.5.0",
            "_view_count": null,
            "_view_module_version": "1.2.0",
            "bar_color": null,
            "_model_module": "@jupyter-widgets/controls"
          }
        },
        "979e6c637b4649e1bc7f56092cafb357": {
          "model_module": "@jupyter-widgets/base",
          "model_name": "LayoutModel",
          "state": {
            "_view_name": "LayoutView",
            "grid_template_rows": null,
            "right": null,
            "justify_content": null,
            "_view_module": "@jupyter-widgets/base",
            "overflow": null,
            "_model_module_version": "1.2.0",
            "_view_count": null,
            "flex_flow": null,
            "width": null,
            "min_width": null,
            "border": null,
            "align_items": null,
            "bottom": null,
            "_model_module": "@jupyter-widgets/base",
            "top": null,
            "grid_column": null,
            "overflow_y": null,
            "overflow_x": null,
            "grid_auto_flow": null,
            "grid_area": null,
            "grid_template_columns": null,
            "flex": null,
            "_model_name": "LayoutModel",
            "justify_items": null,
            "grid_row": null,
            "max_height": null,
            "align_content": null,
            "visibility": null,
            "align_self": null,
            "height": null,
            "min_height": null,
            "padding": null,
            "grid_auto_rows": null,
            "grid_gap": null,
            "max_width": null,
            "order": null,
            "_view_module_version": "1.2.0",
            "grid_template_areas": null,
            "object_position": null,
            "object_fit": null,
            "grid_auto_columns": null,
            "margin": null,
            "display": null,
            "left": null
          }
        },
        "43f4c020905c4701910f65ea22ec6b71": {
          "model_module": "@jupyter-widgets/controls",
          "model_name": "DescriptionStyleModel",
          "state": {
            "_view_name": "StyleView",
            "_model_name": "DescriptionStyleModel",
            "description_width": "",
            "_view_module": "@jupyter-widgets/base",
            "_model_module_version": "1.5.0",
            "_view_count": null,
            "_view_module_version": "1.2.0",
            "_model_module": "@jupyter-widgets/controls"
          }
        },
        "716ef0e7719d4b8895e35950dd78790f": {
          "model_module": "@jupyter-widgets/base",
          "model_name": "LayoutModel",
          "state": {
            "_view_name": "LayoutView",
            "grid_template_rows": null,
            "right": null,
            "justify_content": null,
            "_view_module": "@jupyter-widgets/base",
            "overflow": null,
            "_model_module_version": "1.2.0",
            "_view_count": null,
            "flex_flow": null,
            "width": null,
            "min_width": null,
            "border": null,
            "align_items": null,
            "bottom": null,
            "_model_module": "@jupyter-widgets/base",
            "top": null,
            "grid_column": null,
            "overflow_y": null,
            "overflow_x": null,
            "grid_auto_flow": null,
            "grid_area": null,
            "grid_template_columns": null,
            "flex": null,
            "_model_name": "LayoutModel",
            "justify_items": null,
            "grid_row": null,
            "max_height": null,
            "align_content": null,
            "visibility": null,
            "align_self": null,
            "height": null,
            "min_height": null,
            "padding": null,
            "grid_auto_rows": null,
            "grid_gap": null,
            "max_width": null,
            "order": null,
            "_view_module_version": "1.2.0",
            "grid_template_areas": null,
            "object_position": null,
            "object_fit": null,
            "grid_auto_columns": null,
            "margin": null,
            "display": null,
            "left": null
          }
        },
        "02b32b252a7246ef8d8533007df8a450": {
          "model_module": "@jupyter-widgets/controls",
          "model_name": "HBoxModel",
          "state": {
            "_view_name": "HBoxView",
            "_dom_classes": [],
            "_model_name": "HBoxModel",
            "_view_module": "@jupyter-widgets/controls",
            "_model_module_version": "1.5.0",
            "_view_count": null,
            "_view_module_version": "1.5.0",
            "box_style": "",
            "layout": "IPY_MODEL_a76246c7258b478ba7b258526294d730",
            "_model_module": "@jupyter-widgets/controls",
            "children": [
              "IPY_MODEL_7a16d6ca212843f492ede9b33769c506",
              "IPY_MODEL_ab293073f58244e5b21606bacd4491d8"
            ]
          }
        },
        "a76246c7258b478ba7b258526294d730": {
          "model_module": "@jupyter-widgets/base",
          "model_name": "LayoutModel",
          "state": {
            "_view_name": "LayoutView",
            "grid_template_rows": null,
            "right": null,
            "justify_content": null,
            "_view_module": "@jupyter-widgets/base",
            "overflow": null,
            "_model_module_version": "1.2.0",
            "_view_count": null,
            "flex_flow": null,
            "width": null,
            "min_width": null,
            "border": null,
            "align_items": null,
            "bottom": null,
            "_model_module": "@jupyter-widgets/base",
            "top": null,
            "grid_column": null,
            "overflow_y": null,
            "overflow_x": null,
            "grid_auto_flow": null,
            "grid_area": null,
            "grid_template_columns": null,
            "flex": null,
            "_model_name": "LayoutModel",
            "justify_items": null,
            "grid_row": null,
            "max_height": null,
            "align_content": null,
            "visibility": null,
            "align_self": null,
            "height": null,
            "min_height": null,
            "padding": null,
            "grid_auto_rows": null,
            "grid_gap": null,
            "max_width": null,
            "order": null,
            "_view_module_version": "1.2.0",
            "grid_template_areas": null,
            "object_position": null,
            "object_fit": null,
            "grid_auto_columns": null,
            "margin": null,
            "display": null,
            "left": null
          }
        },
        "7a16d6ca212843f492ede9b33769c506": {
          "model_module": "@jupyter-widgets/controls",
          "model_name": "FloatProgressModel",
          "state": {
            "_view_name": "ProgressView",
            "style": "IPY_MODEL_5728d96955674e9e93d351330beed9ae",
            "_dom_classes": [],
            "description": "Downloading: 100%",
            "_model_name": "FloatProgressModel",
            "bar_style": "success",
            "max": 456318,
            "_view_module": "@jupyter-widgets/controls",
            "_model_module_version": "1.5.0",
            "value": 456318,
            "_view_count": null,
            "_view_module_version": "1.5.0",
            "orientation": "horizontal",
            "min": 0,
            "description_tooltip": null,
            "_model_module": "@jupyter-widgets/controls",
            "layout": "IPY_MODEL_844d162852b648a59147b8f6b3c35233"
          }
        },
        "ab293073f58244e5b21606bacd4491d8": {
          "model_module": "@jupyter-widgets/controls",
          "model_name": "HTMLModel",
          "state": {
            "_view_name": "HTMLView",
            "style": "IPY_MODEL_9f4278ad9aa34295892c3b07b84634a4",
            "_dom_classes": [],
            "description": "",
            "_model_name": "HTMLModel",
            "placeholder": "​",
            "_view_module": "@jupyter-widgets/controls",
            "_model_module_version": "1.5.0",
            "value": " 456k/456k [00:00&lt;00:00, 1.08MB/s]",
            "_view_count": null,
            "_view_module_version": "1.5.0",
            "description_tooltip": null,
            "_model_module": "@jupyter-widgets/controls",
            "layout": "IPY_MODEL_b5dd08cc23ec438780e498459df2aaf4"
          }
        },
        "5728d96955674e9e93d351330beed9ae": {
          "model_module": "@jupyter-widgets/controls",
          "model_name": "ProgressStyleModel",
          "state": {
            "_view_name": "StyleView",
            "_model_name": "ProgressStyleModel",
            "description_width": "initial",
            "_view_module": "@jupyter-widgets/base",
            "_model_module_version": "1.5.0",
            "_view_count": null,
            "_view_module_version": "1.2.0",
            "bar_color": null,
            "_model_module": "@jupyter-widgets/controls"
          }
        },
        "844d162852b648a59147b8f6b3c35233": {
          "model_module": "@jupyter-widgets/base",
          "model_name": "LayoutModel",
          "state": {
            "_view_name": "LayoutView",
            "grid_template_rows": null,
            "right": null,
            "justify_content": null,
            "_view_module": "@jupyter-widgets/base",
            "overflow": null,
            "_model_module_version": "1.2.0",
            "_view_count": null,
            "flex_flow": null,
            "width": null,
            "min_width": null,
            "border": null,
            "align_items": null,
            "bottom": null,
            "_model_module": "@jupyter-widgets/base",
            "top": null,
            "grid_column": null,
            "overflow_y": null,
            "overflow_x": null,
            "grid_auto_flow": null,
            "grid_area": null,
            "grid_template_columns": null,
            "flex": null,
            "_model_name": "LayoutModel",
            "justify_items": null,
            "grid_row": null,
            "max_height": null,
            "align_content": null,
            "visibility": null,
            "align_self": null,
            "height": null,
            "min_height": null,
            "padding": null,
            "grid_auto_rows": null,
            "grid_gap": null,
            "max_width": null,
            "order": null,
            "_view_module_version": "1.2.0",
            "grid_template_areas": null,
            "object_position": null,
            "object_fit": null,
            "grid_auto_columns": null,
            "margin": null,
            "display": null,
            "left": null
          }
        },
        "9f4278ad9aa34295892c3b07b84634a4": {
          "model_module": "@jupyter-widgets/controls",
          "model_name": "DescriptionStyleModel",
          "state": {
            "_view_name": "StyleView",
            "_model_name": "DescriptionStyleModel",
            "description_width": "",
            "_view_module": "@jupyter-widgets/base",
            "_model_module_version": "1.5.0",
            "_view_count": null,
            "_view_module_version": "1.2.0",
            "_model_module": "@jupyter-widgets/controls"
          }
        },
        "b5dd08cc23ec438780e498459df2aaf4": {
          "model_module": "@jupyter-widgets/base",
          "model_name": "LayoutModel",
          "state": {
            "_view_name": "LayoutView",
            "grid_template_rows": null,
            "right": null,
            "justify_content": null,
            "_view_module": "@jupyter-widgets/base",
            "overflow": null,
            "_model_module_version": "1.2.0",
            "_view_count": null,
            "flex_flow": null,
            "width": null,
            "min_width": null,
            "border": null,
            "align_items": null,
            "bottom": null,
            "_model_module": "@jupyter-widgets/base",
            "top": null,
            "grid_column": null,
            "overflow_y": null,
            "overflow_x": null,
            "grid_auto_flow": null,
            "grid_area": null,
            "grid_template_columns": null,
            "flex": null,
            "_model_name": "LayoutModel",
            "justify_items": null,
            "grid_row": null,
            "max_height": null,
            "align_content": null,
            "visibility": null,
            "align_self": null,
            "height": null,
            "min_height": null,
            "padding": null,
            "grid_auto_rows": null,
            "grid_gap": null,
            "max_width": null,
            "order": null,
            "_view_module_version": "1.2.0",
            "grid_template_areas": null,
            "object_position": null,
            "object_fit": null,
            "grid_auto_columns": null,
            "margin": null,
            "display": null,
            "left": null
          }
        },
        "92651bc83e5b401799470f59915863f2": {
          "model_module": "@jupyter-widgets/controls",
          "model_name": "HBoxModel",
          "state": {
            "_view_name": "HBoxView",
            "_dom_classes": [],
            "_model_name": "HBoxModel",
            "_view_module": "@jupyter-widgets/controls",
            "_model_module_version": "1.5.0",
            "_view_count": null,
            "_view_module_version": "1.5.0",
            "box_style": "",
            "layout": "IPY_MODEL_416df782442b46899df7fd3776c8633e",
            "_model_module": "@jupyter-widgets/controls",
            "children": [
              "IPY_MODEL_4409017b78aa45ffaf185a66c4b88704",
              "IPY_MODEL_b5252aaa97364e30a46fed6039c94a58"
            ]
          }
        },
        "416df782442b46899df7fd3776c8633e": {
          "model_module": "@jupyter-widgets/base",
          "model_name": "LayoutModel",
          "state": {
            "_view_name": "LayoutView",
            "grid_template_rows": null,
            "right": null,
            "justify_content": null,
            "_view_module": "@jupyter-widgets/base",
            "overflow": null,
            "_model_module_version": "1.2.0",
            "_view_count": null,
            "flex_flow": null,
            "width": null,
            "min_width": null,
            "border": null,
            "align_items": null,
            "bottom": null,
            "_model_module": "@jupyter-widgets/base",
            "top": null,
            "grid_column": null,
            "overflow_y": null,
            "overflow_x": null,
            "grid_auto_flow": null,
            "grid_area": null,
            "grid_template_columns": null,
            "flex": null,
            "_model_name": "LayoutModel",
            "justify_items": null,
            "grid_row": null,
            "max_height": null,
            "align_content": null,
            "visibility": null,
            "align_self": null,
            "height": null,
            "min_height": null,
            "padding": null,
            "grid_auto_rows": null,
            "grid_gap": null,
            "max_width": null,
            "order": null,
            "_view_module_version": "1.2.0",
            "grid_template_areas": null,
            "object_position": null,
            "object_fit": null,
            "grid_auto_columns": null,
            "margin": null,
            "display": null,
            "left": null
          }
        },
        "4409017b78aa45ffaf185a66c4b88704": {
          "model_module": "@jupyter-widgets/controls",
          "model_name": "FloatProgressModel",
          "state": {
            "_view_name": "ProgressView",
            "style": "IPY_MODEL_95e1d92d328f4757a30b8c9dba0b52a4",
            "_dom_classes": [],
            "description": "Downloading: 100%",
            "_model_name": "FloatProgressModel",
            "bar_style": "success",
            "max": 772,
            "_view_module": "@jupyter-widgets/controls",
            "_model_module_version": "1.5.0",
            "value": 772,
            "_view_count": null,
            "_view_module_version": "1.5.0",
            "orientation": "horizontal",
            "min": 0,
            "description_tooltip": null,
            "_model_module": "@jupyter-widgets/controls",
            "layout": "IPY_MODEL_79b3669018b24b38b420adf246827bf3"
          }
        },
        "b5252aaa97364e30a46fed6039c94a58": {
          "model_module": "@jupyter-widgets/controls",
          "model_name": "HTMLModel",
          "state": {
            "_view_name": "HTMLView",
            "style": "IPY_MODEL_045d0a0c88b34b3586d73bb2e95e4318",
            "_dom_classes": [],
            "description": "",
            "_model_name": "HTMLModel",
            "placeholder": "​",
            "_view_module": "@jupyter-widgets/controls",
            "_model_module_version": "1.5.0",
            "value": " 772/772 [00:00&lt;00:00, 3.27kB/s]",
            "_view_count": null,
            "_view_module_version": "1.5.0",
            "description_tooltip": null,
            "_model_module": "@jupyter-widgets/controls",
            "layout": "IPY_MODEL_e179c9d734104114a385cad5c85aa01f"
          }
        },
        "95e1d92d328f4757a30b8c9dba0b52a4": {
          "model_module": "@jupyter-widgets/controls",
          "model_name": "ProgressStyleModel",
          "state": {
            "_view_name": "StyleView",
            "_model_name": "ProgressStyleModel",
            "description_width": "initial",
            "_view_module": "@jupyter-widgets/base",
            "_model_module_version": "1.5.0",
            "_view_count": null,
            "_view_module_version": "1.2.0",
            "bar_color": null,
            "_model_module": "@jupyter-widgets/controls"
          }
        },
        "79b3669018b24b38b420adf246827bf3": {
          "model_module": "@jupyter-widgets/base",
          "model_name": "LayoutModel",
          "state": {
            "_view_name": "LayoutView",
            "grid_template_rows": null,
            "right": null,
            "justify_content": null,
            "_view_module": "@jupyter-widgets/base",
            "overflow": null,
            "_model_module_version": "1.2.0",
            "_view_count": null,
            "flex_flow": null,
            "width": null,
            "min_width": null,
            "border": null,
            "align_items": null,
            "bottom": null,
            "_model_module": "@jupyter-widgets/base",
            "top": null,
            "grid_column": null,
            "overflow_y": null,
            "overflow_x": null,
            "grid_auto_flow": null,
            "grid_area": null,
            "grid_template_columns": null,
            "flex": null,
            "_model_name": "LayoutModel",
            "justify_items": null,
            "grid_row": null,
            "max_height": null,
            "align_content": null,
            "visibility": null,
            "align_self": null,
            "height": null,
            "min_height": null,
            "padding": null,
            "grid_auto_rows": null,
            "grid_gap": null,
            "max_width": null,
            "order": null,
            "_view_module_version": "1.2.0",
            "grid_template_areas": null,
            "object_position": null,
            "object_fit": null,
            "grid_auto_columns": null,
            "margin": null,
            "display": null,
            "left": null
          }
        },
        "045d0a0c88b34b3586d73bb2e95e4318": {
          "model_module": "@jupyter-widgets/controls",
          "model_name": "DescriptionStyleModel",
          "state": {
            "_view_name": "StyleView",
            "_model_name": "DescriptionStyleModel",
            "description_width": "",
            "_view_module": "@jupyter-widgets/base",
            "_model_module_version": "1.5.0",
            "_view_count": null,
            "_view_module_version": "1.2.0",
            "_model_module": "@jupyter-widgets/controls"
          }
        },
        "e179c9d734104114a385cad5c85aa01f": {
          "model_module": "@jupyter-widgets/base",
          "model_name": "LayoutModel",
          "state": {
            "_view_name": "LayoutView",
            "grid_template_rows": null,
            "right": null,
            "justify_content": null,
            "_view_module": "@jupyter-widgets/base",
            "overflow": null,
            "_model_module_version": "1.2.0",
            "_view_count": null,
            "flex_flow": null,
            "width": null,
            "min_width": null,
            "border": null,
            "align_items": null,
            "bottom": null,
            "_model_module": "@jupyter-widgets/base",
            "top": null,
            "grid_column": null,
            "overflow_y": null,
            "overflow_x": null,
            "grid_auto_flow": null,
            "grid_area": null,
            "grid_template_columns": null,
            "flex": null,
            "_model_name": "LayoutModel",
            "justify_items": null,
            "grid_row": null,
            "max_height": null,
            "align_content": null,
            "visibility": null,
            "align_self": null,
            "height": null,
            "min_height": null,
            "padding": null,
            "grid_auto_rows": null,
            "grid_gap": null,
            "max_width": null,
            "order": null,
            "_view_module_version": "1.2.0",
            "grid_template_areas": null,
            "object_position": null,
            "object_fit": null,
            "grid_auto_columns": null,
            "margin": null,
            "display": null,
            "left": null
          }
        },
        "e26fa604edf1480b94285771bf96b6a8": {
          "model_module": "@jupyter-widgets/controls",
          "model_name": "HBoxModel",
          "state": {
            "_view_name": "HBoxView",
            "_dom_classes": [],
            "_model_name": "HBoxModel",
            "_view_module": "@jupyter-widgets/controls",
            "_model_module_version": "1.5.0",
            "_view_count": null,
            "_view_module_version": "1.5.0",
            "box_style": "",
            "layout": "IPY_MODEL_2062f42ae300407a99f87f5942f0695e",
            "_model_module": "@jupyter-widgets/controls",
            "children": [
              "IPY_MODEL_98039ae01969429ba732f37651b2f66f",
              "IPY_MODEL_e0b0c23afc984418a45fe6e62b84f1e9"
            ]
          }
        },
        "2062f42ae300407a99f87f5942f0695e": {
          "model_module": "@jupyter-widgets/base",
          "model_name": "LayoutModel",
          "state": {
            "_view_name": "LayoutView",
            "grid_template_rows": null,
            "right": null,
            "justify_content": null,
            "_view_module": "@jupyter-widgets/base",
            "overflow": null,
            "_model_module_version": "1.2.0",
            "_view_count": null,
            "flex_flow": null,
            "width": null,
            "min_width": null,
            "border": null,
            "align_items": null,
            "bottom": null,
            "_model_module": "@jupyter-widgets/base",
            "top": null,
            "grid_column": null,
            "overflow_y": null,
            "overflow_x": null,
            "grid_auto_flow": null,
            "grid_area": null,
            "grid_template_columns": null,
            "flex": null,
            "_model_name": "LayoutModel",
            "justify_items": null,
            "grid_row": null,
            "max_height": null,
            "align_content": null,
            "visibility": null,
            "align_self": null,
            "height": null,
            "min_height": null,
            "padding": null,
            "grid_auto_rows": null,
            "grid_gap": null,
            "max_width": null,
            "order": null,
            "_view_module_version": "1.2.0",
            "grid_template_areas": null,
            "object_position": null,
            "object_fit": null,
            "grid_auto_columns": null,
            "margin": null,
            "display": null,
            "left": null
          }
        },
        "98039ae01969429ba732f37651b2f66f": {
          "model_module": "@jupyter-widgets/controls",
          "model_name": "FloatProgressModel",
          "state": {
            "_view_name": "ProgressView",
            "style": "IPY_MODEL_6b1f0eac1ea34e04adba26fa8105d262",
            "_dom_classes": [],
            "description": "Downloading: 100%",
            "_model_name": "FloatProgressModel",
            "bar_style": "success",
            "max": 79,
            "_view_module": "@jupyter-widgets/controls",
            "_model_module_version": "1.5.0",
            "value": 79,
            "_view_count": null,
            "_view_module_version": "1.5.0",
            "orientation": "horizontal",
            "min": 0,
            "description_tooltip": null,
            "_model_module": "@jupyter-widgets/controls",
            "layout": "IPY_MODEL_d85f2a9def9d4999a914466f25e80123"
          }
        },
        "e0b0c23afc984418a45fe6e62b84f1e9": {
          "model_module": "@jupyter-widgets/controls",
          "model_name": "HTMLModel",
          "state": {
            "_view_name": "HTMLView",
            "style": "IPY_MODEL_4e638d63ec784119999c0a52cae93704",
            "_dom_classes": [],
            "description": "",
            "_model_name": "HTMLModel",
            "placeholder": "​",
            "_view_module": "@jupyter-widgets/controls",
            "_model_module_version": "1.5.0",
            "value": " 79.0/79.0 [00:00&lt;00:00, 663B/s]",
            "_view_count": null,
            "_view_module_version": "1.5.0",
            "description_tooltip": null,
            "_model_module": "@jupyter-widgets/controls",
            "layout": "IPY_MODEL_f94120a1ba0446ba9f432700cb312e21"
          }
        },
        "6b1f0eac1ea34e04adba26fa8105d262": {
          "model_module": "@jupyter-widgets/controls",
          "model_name": "ProgressStyleModel",
          "state": {
            "_view_name": "StyleView",
            "_model_name": "ProgressStyleModel",
            "description_width": "initial",
            "_view_module": "@jupyter-widgets/base",
            "_model_module_version": "1.5.0",
            "_view_count": null,
            "_view_module_version": "1.2.0",
            "bar_color": null,
            "_model_module": "@jupyter-widgets/controls"
          }
        },
        "d85f2a9def9d4999a914466f25e80123": {
          "model_module": "@jupyter-widgets/base",
          "model_name": "LayoutModel",
          "state": {
            "_view_name": "LayoutView",
            "grid_template_rows": null,
            "right": null,
            "justify_content": null,
            "_view_module": "@jupyter-widgets/base",
            "overflow": null,
            "_model_module_version": "1.2.0",
            "_view_count": null,
            "flex_flow": null,
            "width": null,
            "min_width": null,
            "border": null,
            "align_items": null,
            "bottom": null,
            "_model_module": "@jupyter-widgets/base",
            "top": null,
            "grid_column": null,
            "overflow_y": null,
            "overflow_x": null,
            "grid_auto_flow": null,
            "grid_area": null,
            "grid_template_columns": null,
            "flex": null,
            "_model_name": "LayoutModel",
            "justify_items": null,
            "grid_row": null,
            "max_height": null,
            "align_content": null,
            "visibility": null,
            "align_self": null,
            "height": null,
            "min_height": null,
            "padding": null,
            "grid_auto_rows": null,
            "grid_gap": null,
            "max_width": null,
            "order": null,
            "_view_module_version": "1.2.0",
            "grid_template_areas": null,
            "object_position": null,
            "object_fit": null,
            "grid_auto_columns": null,
            "margin": null,
            "display": null,
            "left": null
          }
        },
        "4e638d63ec784119999c0a52cae93704": {
          "model_module": "@jupyter-widgets/controls",
          "model_name": "DescriptionStyleModel",
          "state": {
            "_view_name": "StyleView",
            "_model_name": "DescriptionStyleModel",
            "description_width": "",
            "_view_module": "@jupyter-widgets/base",
            "_model_module_version": "1.5.0",
            "_view_count": null,
            "_view_module_version": "1.2.0",
            "_model_module": "@jupyter-widgets/controls"
          }
        },
        "f94120a1ba0446ba9f432700cb312e21": {
          "model_module": "@jupyter-widgets/base",
          "model_name": "LayoutModel",
          "state": {
            "_view_name": "LayoutView",
            "grid_template_rows": null,
            "right": null,
            "justify_content": null,
            "_view_module": "@jupyter-widgets/base",
            "overflow": null,
            "_model_module_version": "1.2.0",
            "_view_count": null,
            "flex_flow": null,
            "width": null,
            "min_width": null,
            "border": null,
            "align_items": null,
            "bottom": null,
            "_model_module": "@jupyter-widgets/base",
            "top": null,
            "grid_column": null,
            "overflow_y": null,
            "overflow_x": null,
            "grid_auto_flow": null,
            "grid_area": null,
            "grid_template_columns": null,
            "flex": null,
            "_model_name": "LayoutModel",
            "justify_items": null,
            "grid_row": null,
            "max_height": null,
            "align_content": null,
            "visibility": null,
            "align_self": null,
            "height": null,
            "min_height": null,
            "padding": null,
            "grid_auto_rows": null,
            "grid_gap": null,
            "max_width": null,
            "order": null,
            "_view_module_version": "1.2.0",
            "grid_template_areas": null,
            "object_position": null,
            "object_fit": null,
            "grid_auto_columns": null,
            "margin": null,
            "display": null,
            "left": null
          }
        }
      }
    }
  },
  "cells": [
    {
      "cell_type": "code",
      "metadata": {
        "id": "v7NjHIIYgsNI"
      },
      "source": [
        "!pip install flask\n",
        "!pip install flask_ngrok\n",
        "!pip install apex\n",
        "!pip install git+https://github.com/deepset-ai/haystack.git\n",
        "!pip install urllib3==1.25.4\n",
        "!apt-get install xpdf"
      ],
      "execution_count": null,
      "outputs": []
    },
    {
      "cell_type": "code",
      "metadata": {
        "id": "NabH-dPPLb5e"
      },
      "source": [
        "mkdir -p data/amazon"
      ],
      "execution_count": null,
      "outputs": []
    },
    {
      "cell_type": "code",
      "metadata": {
        "id": "KZSCXpT-B6Jv"
      },
      "source": [
        "!wget -P ./data/amazon/ https://s2.q4cdn.com/299287126/files/doc_financials/2020/q4/Amazon-Q4-2020-Earnings-Release.pdf\n",
        "!wget -P ./data/amazon/ https://s2.q4cdn.com/299287126/files/doc_financials/2020/q3/AMZN-Q3-2020-Earnings-Release.pdf\n",
        "!wget -P ./data/amazon/ https://s2.q4cdn.com/299287126/files/doc_financials/2020/q2/Q2-2020-Amazon-Earnings-Release.pdf\n",
        "!wget -P ./data/amazon/ https://s2.q4cdn.com/299287126/files/doc_financials/2020/Q1/AMZN-Q1-2020-Earnings-Release.pdf"
      ],
      "execution_count": null,
      "outputs": []
    },
    {
      "cell_type": "code",
      "metadata": {
        "id": "XJeD8W3wB8YM"
      },
      "source": [
        "ls data/amazon"
      ],
      "execution_count": null,
      "outputs": []
    },
    {
      "cell_type": "code",
      "metadata": {
        "id": "bIryrBafTh0r",
        "colab": {
          "base_uri": "https://localhost:8080/"
        },
        "outputId": "044504e3-d6d4-4aa8-8edb-a7f939d2e3e4"
      },
      "source": [
        "!nvidia-smi"
      ],
      "execution_count": null,
      "outputs": [
        {
          "output_type": "stream",
          "text": [
            "NVIDIA-SMI has failed because it couldn't communicate with the NVIDIA driver. Make sure that the latest NVIDIA driver is installed and running.\n",
            "\n"
          ],
          "name": "stdout"
        }
      ]
    },
    {
      "cell_type": "code",
      "metadata": {
        "id": "HPuklRtWUF_q"
      },
      "source": [
        "from haystack.preprocessor.cleaning import clean_wiki_text\n",
        "from haystack.preprocessor.utils import convert_files_to_dicts, fetch_archive_from_http\n",
        "from haystack.reader.farm import FARMReader\n",
        "from haystack.reader.transformers import TransformersReader\n",
        "from haystack.utils import print_answers"
      ],
      "execution_count": 6,
      "outputs": []
    },
    {
      "cell_type": "code",
      "metadata": {
        "id": "M6TagJrn5-x1"
      },
      "source": [
        "# In Colab / No Docker environments: Start Elasticsearch from source\n",
        "! wget https://artifacts.elastic.co/downloads/elasticsearch/elasticsearch-7.9.2-linux-x86_64.tar.gz -q\n",
        "! tar -xzf elasticsearch-7.9.2-linux-x86_64.tar.gz\n",
        "! chown -R daemon:daemon elasticsearch-7.9.2"
      ],
      "execution_count": null,
      "outputs": []
    },
    {
      "cell_type": "code",
      "metadata": {
        "id": "qk_zq3GglF4O"
      },
      "source": [
        "import os\n",
        "from subprocess import Popen, PIPE, STDOUT\n",
        "es_server = Popen(['elasticsearch-7.9.2/bin/elasticsearch'],\n",
        "                   stdout=PIPE, stderr=STDOUT,\n",
        "                   preexec_fn=lambda: os.setuid(1)  # as daemon\n",
        "                  )\n",
        "# wait until ES has started\n",
        "! sleep 40"
      ],
      "execution_count": null,
      "outputs": []
    },
    {
      "cell_type": "code",
      "metadata": {
        "colab": {
          "base_uri": "https://localhost:8080/"
        },
        "id": "fZJFKir9F0kv",
        "outputId": "8127b52b-ebe8-4e32-f992-62a140b31275"
      },
      "source": [
        "# Connect to Elasticsearch\n",
        "\n",
        "from haystack.document_store.elasticsearch import ElasticsearchDocumentStore\n",
        "document_store = ElasticsearchDocumentStore(scheme=\"https\",host=HOST,port=9243, username=USER, password=PWD, index=\"document\")"
      ],
      "execution_count": 20,
      "outputs": [
        {
          "output_type": "stream",
          "text": [
            "04/11/2021 12:51:05 - INFO - elasticsearch -   HEAD https://enterprise-search-deployment-a65c03.es.ap-southeast-1.aws.found.io:9243/ [status:200 request:0.857s]\n",
            "04/11/2021 12:51:05 - INFO - elasticsearch -   HEAD https://enterprise-search-deployment-a65c03.es.ap-southeast-1.aws.found.io:9243/document [status:200 request:0.211s]\n",
            "04/11/2021 12:51:05 - INFO - elasticsearch -   GET https://enterprise-search-deployment-a65c03.es.ap-southeast-1.aws.found.io:9243/document [status:200 request:0.214s]\n",
            "04/11/2021 12:51:05 - INFO - elasticsearch -   PUT https://enterprise-search-deployment-a65c03.es.ap-southeast-1.aws.found.io:9243/document/_mapping [status:200 request:0.216s]\n",
            "04/11/2021 12:51:06 - INFO - elasticsearch -   HEAD https://enterprise-search-deployment-a65c03.es.ap-southeast-1.aws.found.io:9243/label [status:200 request:0.214s]\n"
          ],
          "name": "stderr"
        }
      ]
    },
    {
      "cell_type": "code",
      "metadata": {
        "id": "xfo_pcZeVVcX"
      },
      "source": [
        "# Connect to Elasticsearch\n",
        "\n",
        "from haystack.document_store.elasticsearch import ElasticsearchDocumentStore\n",
        "document_store = ElasticsearchDocumentStore(host=\"localhost\", username=\"\", password=\"\", index=\"document\")"
      ],
      "execution_count": null,
      "outputs": []
    },
    {
      "cell_type": "code",
      "metadata": {
        "id": "2J3Qb9HRVgDT",
        "colab": {
          "base_uri": "https://localhost:8080/"
        },
        "outputId": "8268e9c1-2b68-407a-e7ab-060f60a2939c"
      },
      "source": [
        "\n",
        "directory = \"data\"\n",
        "import os\n",
        "from haystack.file_converter.pdf import PDFToTextConverter\n",
        "from haystack.preprocessor.preprocessor import PreProcessor\n",
        "\n",
        "converter = PDFToTextConverter(remove_numeric_tables=True, valid_languages=[\"de\",\"en\"])\n",
        "\n",
        "processor = PreProcessor(clean_empty_lines=True,\n",
        "                         clean_whitespace=True,\n",
        "                         clean_header_footer=True,\n",
        "                         split_by=\"word\",\n",
        "                         split_length=200,\n",
        "                         split_respect_sentence_boundary=True)\n",
        "docs = []\n",
        "for filename in os.listdir(directory):\n",
        "\n",
        "    # Run the conversion on each file (PDF -> 1x doc)\n",
        "    d = converter.convert(os.path.join(directory, filename), meta={\"name\":filename})\n",
        "\n",
        "    # clean and split each dict (1x doc -> multiple docs)\n",
        "    d = processor.process(d)\n",
        "    docs.extend(d)\n",
        "\n",
        "# Let's have a look at the first 3 entries:\n",
        "print(docs[:3])"
      ],
      "execution_count": 9,
      "outputs": [
        {
          "output_type": "stream",
          "text": [
            "[nltk_data] Downloading package punkt to /root/nltk_data...\n",
            "[nltk_data]   Unzipping tokenizers/punkt.zip.\n"
          ],
          "name": "stdout"
        },
        {
          "output_type": "stream",
          "text": [
            "04/11/2021 12:36:47 - WARNING - haystack.preprocessor.preprocessor -   A sentence found with word count higher than the split length.\n"
          ],
          "name": "stderr"
        },
        {
          "output_type": "stream",
          "text": [
            "[{'text': \"Table of Contents\\n\\nTitle Page\\nCopyright Page\\nDedication\\nPreface\\n\\nCHAPTER I - Overview of the Industry\\nCHAPTER II - Products That We Offer\\nCHAPTER III - The Marketplaces and Order Management\\nCHAPTER IV - The Trade-Processing System\\nCHAPTER V - Margin\\nCHAPTER VI - Settlement\\nCHAPTER VII - Custodial Services\\nCHAPTER VIII - Role of the Banks\\nCHAPTER IX - Cash Accounting\\nCHAPTER X - Brokerage Accounting\\nCHAPTER XI - Stock Record\\nCHAPTER XII - General Ledger\\nCHAPTER XIII - Regulatory Reporting\\nCHAPTER XIV - Conclusion\\n\\nGlossary\\nIndex\\n\\nPORTFOLIO\\nPublished by the Penguin Group\\nPenguin Group (USA) Inc., 375 Hudson Street, New York, New York 10014, U.S.A.  Penguin Group\\n(Canada), 90 Eglinton Avenue East, Suite 700, Toronto, Ontario, Canada M4P 2Y3 (a division of Pearson\\nPenguin Canada Inc.)  Penguin Books Ltd, 80 Strand, London WC2R 0RL, England  Penguin Ireland, 25 St.\\nStephen's Green, Dublin 2, Ireland (a division of Penguin Books Ltd)  Penguin Books Australia Ltd, 250\\nCamberwell Road, Camberwell, Victoria 3124, Australia (a division of Pearson Australia Group Pty Ltd)\\nPenguin Books India Pvt Ltd, 11 Community Centre, Panchsheel Park, New Delhi - 110 017, India  Penguin\\nGroup (NZ), Cnr Airborne and Rosedale Roads, Albany, Auckland 1310, New Zealand (a division of Pearson\\nNew Zealand Ltd)  Penguin Books (South Africa) (Pty) Ltd, 24 Sturdee Avenue, Rosebank, Johannesburg\\n2196, South Africa\\n\\nCopyright  Penguin Group (USA) Inc., 1986, 1993, 2006\\nAll\\nrights\\n\\nreserved\\n\\nPUBLISHER'S NOTE\\nProduced by D'Maracra\\nLIBRARY\\nOF\\n\\nCONGRESS\\n\\nCATALOGING\\n\\nIN\\n\\nPUBLICATION\\n\\nDATA\\n\\nWeiss,\\n\\nDavid\\n\\nM.\\n\\nAfter\\n\\nthe\\n\\ntrade\\n\\nis\\n\\nmade\\n\\n:\\n\\nprocessing\\n\\nsecurities\\n\\ntransactions\\n\\n/\\n\\nDavid\\n\\nM.\\n\\nWeiss.\", 'meta': {'name': 'David M. Weiss - After the Trade Is Made_ Processing Securities Transactions  -Portfolio Hardcover (2006).pdf', '_split_id': 0}}, {'text': \"p.\\n\\ncm. Includes index. eISBN : 978-1-591-84127-2\\n1. Stock exchanges--United States. 2. Securities--United States. 3. Commodity exchanges--United States. I. Title. Without limiting the rights under copyright reserved above, no part of this publication may be reproduced,\\nstored in or introduced into a retrieval system, or transmitted, in any form or by any means (electronic,\\nmechanical, photocopying, recording or otherwise), without the prior written permission of both the copyright\\nowner and the above publisher of this book. The scanning, uploading, and distribution of this book via the Internet or via any other means without the\\npermission of the publisher is illegal and punishable by law. Please purchase only authorized electronic editions\\nand do not participate in or encourage electronic piracy of copyrightable materials. Your support of the author's\\nrights is appreciated. http://us.penguingroup.com\\n\\nTo\\n\\nmy\\n\\nimmediate\\n\\nworld:\\n\\nMarcia, Randi, Craig, Amy, Nicole, Jenna, and Carly\\n\\nTo an industry that I have enjoyed being part of for all these years, I am proud to be one of\\nyou. I trust this book is a worthy return on the investment that you made in me. Thank you. Preface\\nI have been fortunate to participate in an exciting and ever-changing industry.\", 'meta': {'name': 'David M. Weiss - After the Trade Is Made_ Processing Securities Transactions  -Portfolio Hardcover (2006).pdf', '_split_id': 1}}, {'text': 'The dramatic\\nchanges that have occurred are borne out in the major differences that exist between the first\\nand second editons and the second and third editions of this book. One edition, though 80%\\nwritten, never made it to the publisher because the industry changed directions, necessitating\\na major rewrite. This edition, like the previous editions, is as up to date as the production\\nschedule would allow. The industry has changed in many ways since the last edition was published. Technology\\nhas played an ever-increasing role in our products and processes. Globalization, a new word\\nthen, is now an everyday term. Electronic trading is now a major force in the market. Structured products, once thought to be a strange, one-of-a-kind product, trade alongside\\nother instruments. The efficiencies brought by technology on trade processing, settlement,\\nand finance have permitted these products to be processed in a non-cost-offensive manner. The growth of the institutional side of the business, which includes new types of entities,\\nhas made its own demands on the brokerage business. New trading strategies and complex\\norder and reporting requirements have impacted operations. Their collective demands for\\nmore cost-efficient processes, both intrafirm and interfirm, have changed the way we conduct\\nbusiness. This book captures the products and processes.', 'meta': {'name': 'David M. Weiss - After the Trade Is Made_ Processing Securities Transactions  -Portfolio Hardcover (2006).pdf', '_split_id': 2}}]\n"
          ],
          "name": "stdout"
        }
      ]
    },
    {
      "cell_type": "code",
      "metadata": {
        "colab": {
          "base_uri": "https://localhost:8080/"
        },
        "id": "0VCht4VJrFqy",
        "outputId": "3407631f-f799-4402-b431-9a0de4d6e9d8"
      },
      "source": [
        "len(docs)"
      ],
      "execution_count": 152,
      "outputs": [
        {
          "output_type": "execute_result",
          "data": {
            "text/plain": [
              "752"
            ]
          },
          "metadata": {
            "tags": []
          },
          "execution_count": 152
        }
      ]
    },
    {
      "cell_type": "code",
      "metadata": {
        "id": "GKJ6IF-SZJ53",
        "colab": {
          "base_uri": "https://localhost:8080/"
        },
        "outputId": "73ce1a4c-460f-450e-a685-944822cc7cf8"
      },
      "source": [
        "document_store.write_documents(docs)"
      ],
      "execution_count": 153,
      "outputs": [
        {
          "output_type": "stream",
          "text": [
            "04/11/2021 12:19:00 - INFO - elasticsearch -   POST https://enterprise-search-deployment-a65c03.es.ap-southeast-1.aws.found.io:9243/_bulk?refresh=wait_for [status:200 request:2.818s]\n",
            "04/11/2021 12:19:02 - INFO - elasticsearch -   POST https://enterprise-search-deployment-a65c03.es.ap-southeast-1.aws.found.io:9243/_bulk?refresh=wait_for [status:200 request:1.797s]\n"
          ],
          "name": "stderr"
        }
      ]
    },
    {
      "cell_type": "code",
      "metadata": {
        "id": "6Vqqw1qect4J"
      },
      "source": [
        " from haystack.retriever.dense import DensePassageRetriever\n",
        " retriever = DensePassageRetriever(document_store=document_store,\n",
        "                                      query_embedding_model=\"facebook/dpr-question_encoder-single-nq-base\",\n",
        "                                      passage_embedding_model=\"facebook/dpr-ctx_encoder-single-nq-base\",\n",
        "                                      max_seq_len_query=64,\n",
        "                                      max_seq_len_passage=256,\n",
        "                                      batch_size=2,\n",
        "                                      use_gpu=True,\n",
        "                                      embed_title=True,\n",
        "                                      use_fast_tokenizers=True\n",
        "                                      )"
      ],
      "execution_count": 21,
      "outputs": []
    },
    {
      "cell_type": "code",
      "metadata": {
        "id": "x5lzILNCaLEP"
      },
      "source": [
        "from haystack.retriever.sparse import ElasticsearchRetriever\n",
        "retriever = ElasticsearchRetriever(document_store=document_store)"
      ],
      "execution_count": null,
      "outputs": []
    },
    {
      "cell_type": "code",
      "metadata": {
        "colab": {
          "base_uri": "https://localhost:8080/"
        },
        "id": "TBG2O7VqdIRQ",
        "outputId": "898a02c6-3437-4f2b-a095-3b2e192f0f3c"
      },
      "source": [
        "document_store.update_embeddings(retriever)"
      ],
      "execution_count": 11,
      "outputs": [
        {
          "output_type": "stream",
          "text": [
            "04/11/2021 12:37:50 - INFO - elasticsearch -   POST https://enterprise-search-deployment-a65c03.es.ap-southeast-1.aws.found.io:9243/document/_count [status:200 request:0.217s]\n",
            "04/11/2021 12:37:50 - INFO - haystack.document_store.elasticsearch -   Updating embeddings for all 752 docs ...\n",
            "04/11/2021 12:37:52 - INFO - elasticsearch -   POST https://enterprise-search-deployment-a65c03.es.ap-southeast-1.aws.found.io:9243/document/_search?scroll=1d&size=10000 [status:200 request:1.524s]\n",
            "04/11/2021 12:37:52 - INFO - elasticsearch -   POST https://enterprise-search-deployment-a65c03.es.ap-southeast-1.aws.found.io:9243/_search/scroll [status:200 request:0.218s]\n",
            "04/11/2021 12:37:52 - INFO - elasticsearch -   DELETE https://enterprise-search-deployment-a65c03.es.ap-southeast-1.aws.found.io:9243/_search/scroll [status:200 request:0.218s]\n",
            "Creating Embeddings: 100%|██████████| 376/376 [09:56<00:00,  1.59s/ Batches]\n",
            "04/11/2021 12:47:57 - INFO - elasticsearch -   POST https://enterprise-search-deployment-a65c03.es.ap-southeast-1.aws.found.io:9243/_bulk?refresh=wait_for [status:200 request:5.918s]\n",
            "04/11/2021 12:48:00 - INFO - elasticsearch -   POST https://enterprise-search-deployment-a65c03.es.ap-southeast-1.aws.found.io:9243/_bulk?refresh=wait_for [status:200 request:3.639s]\n"
          ],
          "name": "stderr"
        }
      ]
    },
    {
      "cell_type": "code",
      "metadata": {
        "id": "1MK5GY2QaKzA",
        "colab": {
          "base_uri": "https://localhost:8080/",
          "height": 841,
          "referenced_widgets": [
            "965ff97e863243f1bf1dd83dd84dfb07",
            "d0b9647aee16490ca2fbd4082653eaa6",
            "f59fb479c08045e2895f045fbffa86c0",
            "47ea6a473f534da59c852099a9f22e15",
            "c685ee87dea2494eac92bdb91fc1df09",
            "17b582c5a31e430b95057228e513a2db",
            "9cb32058a4c44d9196280d21a814237d",
            "99642c25a95f4c3aa51e408d0b81b93f",
            "85001fa092b649deacef3d32f9b546b2",
            "c6361df1b7814a06845d41affab9492f",
            "30922734f4954bf48872ca37aa8da6fd",
            "ab7ac2579b18451aa1577b4fc780ec57",
            "aacce240954a4698a27634227bd7cbdd",
            "97a901627f6f4f10bd5dae93ad2e527c",
            "33ae39270a144b9c90d5922d88e42be0",
            "c3e4eef36d754798b7cfc4ef5f09a2f7",
            "145440c39aac4f29af19ac84872b2bc4",
            "ef45e79123a74e1786de81fefc4eaa1d",
            "7b459fd54d4d4f26ab2088228b149930",
            "1f4490a40d6f40cc817256c7b345bbbb",
            "cc4f687808584297b5c93e40a2edf47f",
            "979e6c637b4649e1bc7f56092cafb357",
            "43f4c020905c4701910f65ea22ec6b71",
            "716ef0e7719d4b8895e35950dd78790f",
            "02b32b252a7246ef8d8533007df8a450",
            "a76246c7258b478ba7b258526294d730",
            "7a16d6ca212843f492ede9b33769c506",
            "ab293073f58244e5b21606bacd4491d8",
            "5728d96955674e9e93d351330beed9ae",
            "844d162852b648a59147b8f6b3c35233",
            "9f4278ad9aa34295892c3b07b84634a4",
            "b5dd08cc23ec438780e498459df2aaf4",
            "92651bc83e5b401799470f59915863f2",
            "416df782442b46899df7fd3776c8633e",
            "4409017b78aa45ffaf185a66c4b88704",
            "b5252aaa97364e30a46fed6039c94a58",
            "95e1d92d328f4757a30b8c9dba0b52a4",
            "79b3669018b24b38b420adf246827bf3",
            "045d0a0c88b34b3586d73bb2e95e4318",
            "e179c9d734104114a385cad5c85aa01f",
            "e26fa604edf1480b94285771bf96b6a8",
            "2062f42ae300407a99f87f5942f0695e",
            "98039ae01969429ba732f37651b2f66f",
            "e0b0c23afc984418a45fe6e62b84f1e9",
            "6b1f0eac1ea34e04adba26fa8105d262",
            "d85f2a9def9d4999a914466f25e80123",
            "4e638d63ec784119999c0a52cae93704",
            "f94120a1ba0446ba9f432700cb312e21"
          ]
        },
        "outputId": "b4c10c5e-1614-4e41-9808-411c7d9931c5"
      },
      "source": [
        "reader = FARMReader(model_name_or_path=\"deepset/roberta-base-squad2\", use_gpu=True)"
      ],
      "execution_count": 12,
      "outputs": [
        {
          "output_type": "stream",
          "text": [
            "04/11/2021 12:48:17 - INFO - farm.utils -   Using device: CPU \n",
            "04/11/2021 12:48:17 - INFO - farm.utils -   Number of GPUs: 0\n",
            "04/11/2021 12:48:17 - INFO - farm.utils -   Distributed Training: False\n",
            "04/11/2021 12:48:17 - INFO - farm.utils -   Automatic Mixed Precision: None\n",
            "04/11/2021 12:48:17 - INFO - filelock -   Lock 139646644566480 acquired on /root/.cache/huggingface/transformers/c40d0abb589629c48763f271020d0b1f602f5208c432c0874d420491ed37e28b.122ed338b3591c07dba452777c59ff52330edb340d3d56d67aa9117ad9905673.lock\n"
          ],
          "name": "stderr"
        },
        {
          "output_type": "display_data",
          "data": {
            "application/vnd.jupyter.widget-view+json": {
              "model_id": "965ff97e863243f1bf1dd83dd84dfb07",
              "version_minor": 0,
              "version_major": 2
            },
            "text/plain": [
              "HBox(children=(FloatProgress(value=0.0, description='Downloading', max=571.0, style=ProgressStyle(description_…"
            ]
          },
          "metadata": {
            "tags": []
          }
        },
        {
          "output_type": "stream",
          "text": [
            "04/11/2021 12:48:17 - INFO - filelock -   Lock 139646644566480 released on /root/.cache/huggingface/transformers/c40d0abb589629c48763f271020d0b1f602f5208c432c0874d420491ed37e28b.122ed338b3591c07dba452777c59ff52330edb340d3d56d67aa9117ad9905673.lock\n",
            "04/11/2021 12:48:17 - INFO - filelock -   Lock 139646615614608 acquired on /root/.cache/huggingface/transformers/eac3273a8097dda671e3bea1db32c616e74f36a306c65b4858171c98d6db83e9.084aa7284f3a51fa1c8f0641aa04c47d366fbd18711f29d0a995693cfdbc9c9e.lock\n"
          ],
          "name": "stderr"
        },
        {
          "output_type": "stream",
          "text": [
            "\n"
          ],
          "name": "stdout"
        },
        {
          "output_type": "display_data",
          "data": {
            "application/vnd.jupyter.widget-view+json": {
              "model_id": "85001fa092b649deacef3d32f9b546b2",
              "version_minor": 0,
              "version_major": 2
            },
            "text/plain": [
              "HBox(children=(FloatProgress(value=0.0, description='Downloading', max=496313727.0, style=ProgressStyle(descri…"
            ]
          },
          "metadata": {
            "tags": []
          }
        },
        {
          "output_type": "stream",
          "text": [
            "04/11/2021 12:48:29 - INFO - filelock -   Lock 139646615614608 released on /root/.cache/huggingface/transformers/eac3273a8097dda671e3bea1db32c616e74f36a306c65b4858171c98d6db83e9.084aa7284f3a51fa1c8f0641aa04c47d366fbd18711f29d0a995693cfdbc9c9e.lock\n"
          ],
          "name": "stderr"
        },
        {
          "output_type": "stream",
          "text": [
            "\n"
          ],
          "name": "stdout"
        },
        {
          "output_type": "stream",
          "text": [
            "Some weights of RobertaModel were not initialized from the model checkpoint at deepset/roberta-base-squad2 and are newly initialized: ['roberta.pooler.dense.weight', 'roberta.pooler.dense.bias']\n",
            "You should probably TRAIN this model on a down-stream task to be able to use it for predictions and inference.\n",
            "04/11/2021 12:48:36 - WARNING - farm.utils -   Failed to log params: Changing param values is not allowed. Param with key='prediction_heads' was already logged with value='TextSimilarityHead' for run ID='11e783b2acd84ed9883b65407fc81c6b'. Attempted logging new value 'QuestionAnsweringHead'.\n",
            "04/11/2021 12:48:37 - INFO - filelock -   Lock 139646641122512 acquired on /root/.cache/huggingface/transformers/81c80edb4c6cefa5cae64ccfdb34b3b309ecaf60da99da7cd1c17e24a5d36eb5.647b4548b6d9ea817e82e7a9231a320231a1c9ea24053cc9e758f3fe68216f05.lock\n"
          ],
          "name": "stderr"
        },
        {
          "output_type": "display_data",
          "data": {
            "application/vnd.jupyter.widget-view+json": {
              "model_id": "145440c39aac4f29af19ac84872b2bc4",
              "version_minor": 0,
              "version_major": 2
            },
            "text/plain": [
              "HBox(children=(FloatProgress(value=0.0, description='Downloading', max=898822.0, style=ProgressStyle(descripti…"
            ]
          },
          "metadata": {
            "tags": []
          }
        },
        {
          "output_type": "stream",
          "text": [
            "04/11/2021 12:48:37 - INFO - filelock -   Lock 139646641122512 released on /root/.cache/huggingface/transformers/81c80edb4c6cefa5cae64ccfdb34b3b309ecaf60da99da7cd1c17e24a5d36eb5.647b4548b6d9ea817e82e7a9231a320231a1c9ea24053cc9e758f3fe68216f05.lock\n",
            "04/11/2021 12:48:37 - INFO - filelock -   Lock 139646640962640 acquired on /root/.cache/huggingface/transformers/b87d46371731376b11768b7839b1a5938a4f77d6bd2d9b683f167df0026af432.5d12962c5ee615a4c803841266e9c3be9a691a924f72d395d3a6c6c81157788b.lock\n"
          ],
          "name": "stderr"
        },
        {
          "output_type": "stream",
          "text": [
            "\n"
          ],
          "name": "stdout"
        },
        {
          "output_type": "display_data",
          "data": {
            "application/vnd.jupyter.widget-view+json": {
              "model_id": "02b32b252a7246ef8d8533007df8a450",
              "version_minor": 0,
              "version_major": 2
            },
            "text/plain": [
              "HBox(children=(FloatProgress(value=0.0, description='Downloading', max=456318.0, style=ProgressStyle(descripti…"
            ]
          },
          "metadata": {
            "tags": []
          }
        },
        {
          "output_type": "stream",
          "text": [
            "04/11/2021 12:48:37 - INFO - filelock -   Lock 139646640962640 released on /root/.cache/huggingface/transformers/b87d46371731376b11768b7839b1a5938a4f77d6bd2d9b683f167df0026af432.5d12962c5ee615a4c803841266e9c3be9a691a924f72d395d3a6c6c81157788b.lock\n"
          ],
          "name": "stderr"
        },
        {
          "output_type": "stream",
          "text": [
            "\n"
          ],
          "name": "stdout"
        },
        {
          "output_type": "stream",
          "text": [
            "04/11/2021 12:48:37 - INFO - filelock -   Lock 139646714667984 acquired on /root/.cache/huggingface/transformers/c9d2c178fac8d40234baa1833a3b1903d393729bf93ea34da247c07db24900d0.cb2244924ab24d706b02fd7fcedaea4531566537687a539ebb94db511fd122a0.lock\n"
          ],
          "name": "stderr"
        },
        {
          "output_type": "display_data",
          "data": {
            "application/vnd.jupyter.widget-view+json": {
              "model_id": "92651bc83e5b401799470f59915863f2",
              "version_minor": 0,
              "version_major": 2
            },
            "text/plain": [
              "HBox(children=(FloatProgress(value=0.0, description='Downloading', max=772.0, style=ProgressStyle(description_…"
            ]
          },
          "metadata": {
            "tags": []
          }
        },
        {
          "output_type": "stream",
          "text": [
            "04/11/2021 12:48:37 - INFO - filelock -   Lock 139646714667984 released on /root/.cache/huggingface/transformers/c9d2c178fac8d40234baa1833a3b1903d393729bf93ea34da247c07db24900d0.cb2244924ab24d706b02fd7fcedaea4531566537687a539ebb94db511fd122a0.lock\n",
            "04/11/2021 12:48:37 - INFO - filelock -   Lock 139646714626576 acquired on /root/.cache/huggingface/transformers/e8a600814b69e3ee74bb4a7398cc6fef9812475010f16a6c9f151b2c2772b089.451739a2f3b82c3375da0dfc6af295bedc4567373b171f514dd09a4cc4b31513.lock\n"
          ],
          "name": "stderr"
        },
        {
          "output_type": "stream",
          "text": [
            "\n"
          ],
          "name": "stdout"
        },
        {
          "output_type": "display_data",
          "data": {
            "application/vnd.jupyter.widget-view+json": {
              "model_id": "e26fa604edf1480b94285771bf96b6a8",
              "version_minor": 0,
              "version_major": 2
            },
            "text/plain": [
              "HBox(children=(FloatProgress(value=0.0, description='Downloading', max=79.0, style=ProgressStyle(description_w…"
            ]
          },
          "metadata": {
            "tags": []
          }
        },
        {
          "output_type": "stream",
          "text": [
            "04/11/2021 12:48:37 - INFO - filelock -   Lock 139646714626576 released on /root/.cache/huggingface/transformers/e8a600814b69e3ee74bb4a7398cc6fef9812475010f16a6c9f151b2c2772b089.451739a2f3b82c3375da0dfc6af295bedc4567373b171f514dd09a4cc4b31513.lock\n"
          ],
          "name": "stderr"
        },
        {
          "output_type": "stream",
          "text": [
            "\n"
          ],
          "name": "stdout"
        },
        {
          "output_type": "stream",
          "text": [
            "04/11/2021 12:48:37 - WARNING - farm.utils -   Failed to log params: Changing param values is not allowed. Param with key='processor' was already logged with value='TextSimilarityProcessor' for run ID='11e783b2acd84ed9883b65407fc81c6b'. Attempted logging new value 'SquadProcessor'.\n",
            "04/11/2021 12:48:37 - WARNING - farm.utils -   ML Logging is turned off. No parameters, metrics or artifacts will be logged to MLFlow.\n",
            "04/11/2021 12:48:37 - INFO - farm.utils -   Using device: CPU \n",
            "04/11/2021 12:48:37 - INFO - farm.utils -   Number of GPUs: 0\n",
            "04/11/2021 12:48:37 - INFO - farm.utils -   Distributed Training: False\n",
            "04/11/2021 12:48:37 - INFO - farm.utils -   Automatic Mixed Precision: None\n",
            "04/11/2021 12:48:38 - INFO - farm.infer -   Got ya 2 parallel workers to do inference ...\n",
            "04/11/2021 12:48:38 - INFO - farm.infer -    0    0 \n",
            "04/11/2021 12:48:38 - INFO - farm.infer -   /w\\  /w\\\n",
            "04/11/2021 12:48:38 - INFO - farm.infer -   /'\\  / \\\n",
            "04/11/2021 12:48:38 - INFO - farm.infer -     \n"
          ],
          "name": "stderr"
        }
      ]
    },
    {
      "cell_type": "code",
      "metadata": {
        "id": "dPyxxZ4JaTJR"
      },
      "source": [
        "from haystack.pipeline import ExtractiveQAPipeline\n",
        "pipe = ExtractiveQAPipeline(reader, retriever)"
      ],
      "execution_count": 22,
      "outputs": []
    },
    {
      "cell_type": "code",
      "metadata": {
        "id": "ZOdWDQ2DaSyy",
        "colab": {
          "base_uri": "https://localhost:8080/"
        },
        "outputId": "cf251017-bc13-4099-9735-1ef5ef70a209"
      },
      "source": [
        "prediction = pipe.run(query=\"Who is a counterparty?\", top_k_retriever=5, top_k_reader=5)"
      ],
      "execution_count": 23,
      "outputs": [
        {
          "output_type": "stream",
          "text": [
            "04/11/2021 12:51:52 - INFO - elasticsearch -   POST https://enterprise-search-deployment-a65c03.es.ap-southeast-1.aws.found.io:9243/document/_search [status:200 request:0.428s]\n",
            "Inferencing Samples: 100%|██████████| 1/1 [00:01<00:00,  1.66s/ Batches]\n",
            "Inferencing Samples: 100%|██████████| 1/1 [00:01<00:00,  1.59s/ Batches]\n",
            "Inferencing Samples: 100%|██████████| 1/1 [00:01<00:00,  1.58s/ Batches]\n",
            "Inferencing Samples: 100%|██████████| 1/1 [00:01<00:00,  1.57s/ Batches]\n",
            "Inferencing Samples: 100%|██████████| 1/1 [00:01<00:00,  1.58s/ Batches]\n"
          ],
          "name": "stderr"
        }
      ]
    },
    {
      "cell_type": "code",
      "metadata": {
        "id": "rwfPmmt6aieK",
        "colab": {
          "base_uri": "https://localhost:8080/"
        },
        "outputId": "03ed4d00-8146-40ae-ce9c-8452181c844b"
      },
      "source": [
        "print_answers(prediction, details=\"minimal\")"
      ],
      "execution_count": 19,
      "outputs": [
        {
          "output_type": "stream",
          "text": [
            "{   'answers': [   {   'answer': 'Knight and Knune',\n",
            "                       'context': 'On\\n'\n",
            "                                  'the other side of the trade is another '\n",
            "                                  \"broker/dealer--let's say Knight and Knune, \"\n",
            "                                  'which sold\\n'\n",
            "                                  \"the stock. If SF&R's trade is executed \"\n",
            "                                  'against the omn',\n",
            "                       'document_id': 'ca3a3498-9f71-4992-903f-818e51c2f3e1',\n",
            "                       'meta': {   '_split_id': 369,\n",
            "                                   'name': 'David M. Weiss - After the Trade '\n",
            "                                           'Is Made_ Processing Securities '\n",
            "                                           'Transactions  -Portfolio Hardcover '\n",
            "                                           '(2006).pdf'},\n",
            "                       'offset_end': 83,\n",
            "                       'offset_end_in_doc': 340,\n",
            "                       'offset_start': 67,\n",
            "                       'offset_start_in_doc': 324,\n",
            "                       'probability': 0.19056186079978943,\n",
            "                       'score': 4.8775529861450195},\n",
            "                   {   'answer': 'Stone, Forrest & Rivers',\n",
            "                       'context': ' if executable, is executed against one of '\n",
            "                                  'these market\\n'\n",
            "                                  'makers. Stone, Forrest & Rivers '\n",
            "                                  'participates in the SOES system. It has '\n",
            "                                  'sent a parameter of 10',\n",
            "                       'document_id': '1979d79c-3f60-4ecb-bf6e-20e95f8900b0',\n",
            "                       'meta': {   '_split_id': 283,\n",
            "                                   'name': 'David M. Weiss - After the Trade '\n",
            "                                           'Is Made_ Processing Securities '\n",
            "                                           'Transactions  -Portfolio Hardcover '\n",
            "                                           '(2006).pdf'},\n",
            "                       'offset_end': 87,\n",
            "                       'offset_end_in_doc': 161,\n",
            "                       'offset_start': 64,\n",
            "                       'offset_start_in_doc': 138,\n",
            "                       'probability': 0.04051164165139198,\n",
            "                       'score': 2.0170764923095703},\n",
            "                   {   'answer': 'International Pte.',\n",
            "                       'context': 'waps\\n'\n",
            "                                  'Example: Swaps can also be conducted '\n",
            "                                  'intercurrency. Stephans International Pte. '\n",
            "                                  'is a French\\n'\n",
            "                                  'company. Vargus, Inc., is a U.S. '\n",
            "                                  'corporation. Each co',\n",
            "                       'document_id': '0a848439-6918-4ec5-9cf8-45e74a4c44d7',\n",
            "                       'meta': {   '_split_id': 193,\n",
            "                                   'name': 'David M. Weiss - After the Trade '\n",
            "                                           'Is Made_ Processing Securities '\n",
            "                                           'Transactions  -Portfolio Hardcover '\n",
            "                                           '(2006).pdf'},\n",
            "                       'offset_end': 84,\n",
            "                       'offset_end_in_doc': 601,\n",
            "                       'offset_start': 66,\n",
            "                       'offset_start_in_doc': 583,\n",
            "                       'probability': 0.09936842322349548,\n",
            "                       'score': 1.1668508052825928},\n",
            "                   {   'answer': \"Marquis Corp.'\",\n",
            "                       'context': 'As short-term interest rates change,\\n'\n",
            "                                  \"Marquis Corp.'s borrowing and lending will \"\n",
            "                                  'parallel each other; and, as long-term '\n",
            "                                  'rates\\n'\n",
            "                                  \"change, Lincoln's borrowi\",\n",
            "                       'document_id': '0a848439-6918-4ec5-9cf8-45e74a4c44d7',\n",
            "                       'meta': {   '_split_id': 193,\n",
            "                                   'name': 'David M. Weiss - After the Trade '\n",
            "                                           'Is Made_ Processing Securities '\n",
            "                                           'Transactions  -Portfolio Hardcover '\n",
            "                                           '(2006).pdf'},\n",
            "                       'offset_end': 50,\n",
            "                       'offset_end_in_doc': 50,\n",
            "                       'offset_start': 36,\n",
            "                       'offset_start_in_doc': 36,\n",
            "                       'probability': 0.020945409312844276,\n",
            "                       'score': 0.3032689690589905},\n",
            "                   {   'answer': 'William Bord',\n",
            "                       'context': 'also trade the debt desk. One of Stone, '\n",
            "                                  \"Forrest & Rivers' traders is William Bord. \"\n",
            "                                  'Bill makes markets in five different equity '\n",
            "                                  'securities. These secur',\n",
            "                       'document_id': '367336d7-ceba-449a-964f-0e8c8e69d656',\n",
            "                       'meta': {   '_split_id': 277,\n",
            "                                   'name': 'David M. Weiss - After the Trade '\n",
            "                                           'Is Made_ Processing Securities '\n",
            "                                           'Transactions  -Portfolio Hardcover '\n",
            "                                           '(2006).pdf'},\n",
            "                       'offset_end': 81,\n",
            "                       'offset_end_in_doc': 987,\n",
            "                       'offset_start': 69,\n",
            "                       'offset_start_in_doc': 975,\n",
            "                       'probability': 0.01961621642112732,\n",
            "                       'score': -1.364952564239502}],\n",
            "    'no_ans_gap': -2.848388671875,\n",
            "    'query': 'Who is a counterparty?'}\n"
          ],
          "name": "stdout"
        }
      ]
    },
    {
      "cell_type": "code",
      "metadata": {
        "id": "7Y9ZhCluiuoH",
        "colab": {
          "base_uri": "https://localhost:8080/"
        },
        "outputId": "c27b5c7f-2def-473d-b541-3872779aac37"
      },
      "source": [
        "import json\n",
        "import os\n",
        "import logging\n",
        "from flask_ngrok import run_with_ngrok\n",
        "from flask_cors import CORS\n",
        "from flask import Flask, request, jsonify\n",
        "from haystack import Finder\n",
        "from haystack.preprocessor.cleaning import clean_wiki_text\n",
        "from haystack.preprocessor.utils import convert_files_to_dicts\n",
        "from haystack.reader.farm import FARMReader\n",
        "from haystack.document_store.elasticsearch import ElasticsearchDocumentStore\n",
        "from haystack.file_converter.pdf import PDFToTextConverter\n",
        "from haystack.retriever.dense import DensePassageRetriever\n",
        "from haystack.retriever.sparse import ElasticsearchRetriever\n",
        "from haystack.pipeline import ExtractiveQAPipeline\n",
        "from werkzeug.utils import secure_filename\n",
        "\n",
        "#application settings\n",
        "app = Flask(__name__)\n",
        "CORS(app)\n"
      ],
      "execution_count": 28,
      "outputs": [
        {
          "output_type": "execute_result",
          "data": {
            "text/plain": [
              "<flask_cors.extension.CORS at 0x7f0203793850>"
            ]
          },
          "metadata": {
            "tags": []
          },
          "execution_count": 28
        }
      ]
    },
    {
      "cell_type": "code",
      "metadata": {
        "id": "_so1R9VUqE_I"
      },
      "source": [
        "@app.route('/query',methods=['GET', 'POST'])\n",
        "def search():\n",
        "    \"\"\"Return the n answers.\"\"\"\n",
        "\n",
        "    question = request.get_json()\n",
        "    question = question['questions']\n",
        "\n",
        "    prediction = pipe.run(query=question[0], top_k_retriever=3, top_k_reader=3)\n",
        "    answer = []\n",
        "  \n",
        "    for res in prediction['answers']:\n",
        "        answer.append(res['answer'])\n",
        "\n",
        "    result = {\"results\":[prediction]}\n",
        "    return json.dumps(result)\n"
      ],
      "execution_count": 29,
      "outputs": []
    },
    {
      "cell_type": "code",
      "metadata": {
        "id": "QUb9QbM-AFof"
      },
      "source": [
        "@app.route('/file-upload', methods = ['GET', 'POST'])\n",
        "def upload_file():\n",
        "   if request.method == 'POST':\n",
        "      f = request.files['file']\n",
        "      f.save(secure_filename(f.filename))\n",
        "      return 'File Uploaded Successfully'"
      ],
      "execution_count": 30,
      "outputs": []
    },
    {
      "cell_type": "code",
      "metadata": {
        "id": "CprwMspBrRDT",
        "colab": {
          "base_uri": "https://localhost:8080/"
        },
        "outputId": "cee3785d-df04-4a33-c660-2198c839be5a"
      },
      "source": [
        "run_with_ngrok(app)\n",
        "app.run()"
      ],
      "execution_count": 31,
      "outputs": [
        {
          "output_type": "stream",
          "text": [
            " * Serving Flask app \"__main__\" (lazy loading)\n",
            " * Environment: production\n",
            "\u001b[31m   WARNING: This is a development server. Do not use it in a production deployment.\u001b[0m\n",
            "\u001b[2m   Use a production WSGI server instead.\u001b[0m\n",
            " * Debug mode: off\n"
          ],
          "name": "stdout"
        },
        {
          "output_type": "stream",
          "text": [
            "04/11/2021 13:37:16 - INFO - werkzeug -    * Running on http://127.0.0.1:5000/ (Press CTRL+C to quit)\n"
          ],
          "name": "stderr"
        },
        {
          "output_type": "stream",
          "text": [
            " * Running on http://c2d5baf86896.ngrok.io\n",
            " * Traffic stats available on http://127.0.0.1:4040\n"
          ],
          "name": "stdout"
        },
        {
          "output_type": "stream",
          "text": [
            "04/11/2021 13:38:21 - INFO - werkzeug -   127.0.0.1 - - [11/Apr/2021 13:38:21] \"\u001b[37mPOST /file-upload HTTP/1.1\u001b[0m\" 200 -\n",
            "04/11/2021 13:43:13 - INFO - werkzeug -   127.0.0.1 - - [11/Apr/2021 13:43:13] \"\u001b[37mPOST /file-upload HTTP/1.1\u001b[0m\" 200 -\n"
          ],
          "name": "stderr"
        }
      ]
    },
    {
      "cell_type": "code",
      "metadata": {
        "id": "RpdBSZH2kjkt"
      },
      "source": [
        "from haystack.connector import Crawler\n",
        "    \n",
        "crawler = Crawler()\n",
        "# crawl Haystack docs, i.e. all pages that include haystack.deepset.ai/docs/\n",
        "docs = crawler.crawl(urls=[\"https://haystack.deepset.ai/docs/latest/get_startedmd\"],\n",
        "    output_dir=\"crawled_files\",\n",
        "    filter_urls= [\"haystack\\.deepset\\.ai\\/docs\\/\"])"
      ],
      "execution_count": null,
      "outputs": []
    }
  ]
}