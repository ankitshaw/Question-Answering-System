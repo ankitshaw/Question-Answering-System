{
  "nbformat": 4,
  "nbformat_minor": 0,
  "metadata": {
    "colab": {
      "name": "Q&A-HayStack.ipynb",
      "provenance": [],
      "collapsed_sections": []
    },
    "kernelspec": {
      "display_name": "Python 3",
      "name": "python3"
    },
    "language_info": {
      "name": "python"
    },
    "accelerator": "GPU"
  },
  "cells": [
    {
      "cell_type": "code",
      "metadata": {
        "id": "v7NjHIIYgsNI"
      },
      "source": [
        "!pip install flask\n",
        "!pip install flask_ngrok\n",
        "!pip install apex\n",
        "!pip install git+https://github.com/deepset-ai/haystack.git\n",
        "!pip install urllib3==1.25.4\n",
        "!apt-get install xpdf"
      ],
      "execution_count": null,
      "outputs": []
    },
    {
      "cell_type": "code",
      "metadata": {
        "id": "NabH-dPPLb5e"
      },
      "source": [
        "mkdir -p data/amazon"
      ],
      "execution_count": null,
      "outputs": []
    },
    {
      "cell_type": "code",
      "metadata": {
        "id": "KZSCXpT-B6Jv"
      },
      "source": [
        "!wget -P ./data/amazon/ https://s2.q4cdn.com/299287126/files/doc_financials/2020/q4/Amazon-Q4-2020-Earnings-Release.pdf\n",
        "!wget -P ./data/amazon/ https://s2.q4cdn.com/299287126/files/doc_financials/2020/q3/AMZN-Q3-2020-Earnings-Release.pdf\n",
        "!wget -P ./data/amazon/ https://s2.q4cdn.com/299287126/files/doc_financials/2020/q2/Q2-2020-Amazon-Earnings-Release.pdf\n",
        "!wget -P ./data/amazon/ https://s2.q4cdn.com/299287126/files/doc_financials/2020/Q1/AMZN-Q1-2020-Earnings-Release.pdf"
      ],
      "execution_count": null,
      "outputs": []
    },
    {
      "cell_type": "code",
      "metadata": {
        "id": "XJeD8W3wB8YM"
      },
      "source": [
        "ls data/amazon"
      ],
      "execution_count": null,
      "outputs": []
    },
    {
      "cell_type": "code",
      "metadata": {
        "id": "bIryrBafTh0r"
      },
      "source": [
        "!nvidia-smi"
      ],
      "execution_count": null,
      "outputs": []
    },
    {
      "cell_type": "code",
      "metadata": {
        "id": "HPuklRtWUF_q"
      },
      "source": [
        "from haystack.preprocessor.cleaning import clean_wiki_text\n",
        "from haystack.preprocessor.utils import convert_files_to_dicts, fetch_archive_from_http\n",
        "from haystack.reader.farm import FARMReader\n",
        "from haystack.reader.transformers import TransformersReader\n",
        "from haystack.utils import print_answers"
      ],
      "execution_count": null,
      "outputs": []
    },
    {
      "cell_type": "code",
      "metadata": {
        "id": "M6TagJrn5-x1"
      },
      "source": [
        "# In Colab / No Docker environments: Start Elasticsearch from source\n",
        "! wget https://artifacts.elastic.co/downloads/elasticsearch/elasticsearch-7.9.2-linux-x86_64.tar.gz -q\n",
        "! tar -xzf elasticsearch-7.9.2-linux-x86_64.tar.gz\n",
        "! chown -R daemon:daemon elasticsearch-7.9.2"
      ],
      "execution_count": null,
      "outputs": []
    },
    {
      "cell_type": "code",
      "metadata": {
        "id": "qk_zq3GglF4O"
      },
      "source": [
        "import os\n",
        "from subprocess import Popen, PIPE, STDOUT\n",
        "es_server = Popen(['elasticsearch-7.9.2/bin/elasticsearch'],\n",
        "                   stdout=PIPE, stderr=STDOUT,\n",
        "                   preexec_fn=lambda: os.setuid(1)  # as daemon\n",
        "                  )\n",
        "# wait until ES has started\n",
        "! sleep 40"
      ],
      "execution_count": null,
      "outputs": []
    },
    {
      "cell_type": "code",
      "metadata": {
        "id": "fZJFKir9F0kv"
      },
      "source": [
        "# Connect to Elasticsearch\n",
        "\n",
        "from haystack.document_store.elasticsearch import ElasticsearchDocumentStore\n",
        "document_store = ElasticsearchDocumentStore(scheme=\"https\",host=HOST,port=9243, username=USER, password=PWD, index=\"document\")"
      ],
      "execution_count": null,
      "outputs": []
    },
    {
      "cell_type": "code",
      "metadata": {
        "id": "xfo_pcZeVVcX"
      },
      "source": [
        "# Connect to Elasticsearch\n",
        "\n",
        "from haystack.document_store.elasticsearch import ElasticsearchDocumentStore\n",
        "document_store = ElasticsearchDocumentStore(host=\"localhost\", username=\"\", password=\"\", index=\"document\")"
      ],
      "execution_count": null,
      "outputs": []
    },
    {
      "cell_type": "code",
      "metadata": {
        "id": "2J3Qb9HRVgDT"
      },
      "source": [
        "\n",
        "directory = \"data\"\n",
        "import os\n",
        "from haystack.file_converter.pdf import PDFToTextConverter\n",
        "from haystack.preprocessor.preprocessor import PreProcessor\n",
        "\n",
        "converter = PDFToTextConverter(remove_numeric_tables=True, valid_languages=[\"de\",\"en\"])\n",
        "\n",
        "processor = PreProcessor(clean_empty_lines=True,\n",
        "                         clean_whitespace=True,\n",
        "                         clean_header_footer=True,\n",
        "                         split_by=\"word\",\n",
        "                         split_length=200,\n",
        "                         split_respect_sentence_boundary=True)\n",
        "docs = []\n",
        "for filename in os.listdir(directory):\n",
        "\n",
        "    # Run the conversion on each file (PDF -> 1x doc)\n",
        "    d = converter.convert(os.path.join(directory, filename), meta={\"name\":filename})\n",
        "\n",
        "    # clean and split each dict (1x doc -> multiple docs)\n",
        "    d = processor.process(d)\n",
        "    docs.extend(d)\n",
        "\n",
        "# Let's have a look at the first 3 entries:\n",
        "print(docs[:3])"
      ],
      "execution_count": null,
      "outputs": []
    },
    {
      "cell_type": "code",
      "metadata": {
        "id": "0VCht4VJrFqy"
      },
      "source": [
        "len(docs)"
      ],
      "execution_count": null,
      "outputs": []
    },
    {
      "cell_type": "code",
      "metadata": {
        "id": "GKJ6IF-SZJ53"
      },
      "source": [
        "document_store.write_documents(docs)"
      ],
      "execution_count": null,
      "outputs": []
    },
    {
      "cell_type": "code",
      "metadata": {
        "id": "6Vqqw1qect4J"
      },
      "source": [
        " from haystack.retriever.dense import DensePassageRetriever\n",
        " retriever = DensePassageRetriever(document_store=document_store,\n",
        "                                      query_embedding_model=\"facebook/dpr-question_encoder-single-nq-base\",\n",
        "                                      passage_embedding_model=\"facebook/dpr-ctx_encoder-single-nq-base\",\n",
        "                                      max_seq_len_query=64,\n",
        "                                      max_seq_len_passage=256,\n",
        "                                      batch_size=2,\n",
        "                                      use_gpu=True,\n",
        "                                      embed_title=True,\n",
        "                                      use_fast_tokenizers=True\n",
        "                                      )"
      ],
      "execution_count": null,
      "outputs": []
    },
    {
      "cell_type": "code",
      "metadata": {
        "id": "x5lzILNCaLEP"
      },
      "source": [
        "from haystack.retriever.sparse import ElasticsearchRetriever\n",
        "retriever = ElasticsearchRetriever(document_store=document_store)"
      ],
      "execution_count": null,
      "outputs": []
    },
    {
      "cell_type": "code",
      "metadata": {
        "id": "TBG2O7VqdIRQ"
      },
      "source": [
        "document_store.update_embeddings(retriever)"
      ],
      "execution_count": null,
      "outputs": []
    },
    {
      "cell_type": "code",
      "metadata": {
        "id": "1MK5GY2QaKzA"
      },
      "source": [
        "reader = FARMReader(model_name_or_path=\"deepset/roberta-base-squad2\", use_gpu=True)"
      ],
      "execution_count": null,
      "outputs": []
    },
    {
      "cell_type": "code",
      "metadata": {
        "id": "dPyxxZ4JaTJR"
      },
      "source": [
        "from haystack.pipeline import ExtractiveQAPipeline\n",
        "pipe = ExtractiveQAPipeline(reader, retriever)"
      ],
      "execution_count": null,
      "outputs": []
    },
    {
      "cell_type": "code",
      "metadata": {
        "id": "ZOdWDQ2DaSyy"
      },
      "source": [
        "prediction = pipe.run(query=\"Who is a counterparty?\", top_k_retriever=5, top_k_reader=5)"
      ],
      "execution_count": null,
      "outputs": []
    },
    {
      "cell_type": "code",
      "metadata": {
        "id": "rwfPmmt6aieK"
      },
      "source": [
        "print_answers(prediction, details=\"minimal\")"
      ],
      "execution_count": null,
      "outputs": []
    },
    {
      "cell_type": "code",
      "metadata": {
        "id": "7Y9ZhCluiuoH"
      },
      "source": [
        "import json\n",
        "import os\n",
        "import logging\n",
        "from flask_ngrok import run_with_ngrok\n",
        "from flask_cors import CORS\n",
        "from flask import Flask, request, jsonify\n",
        "from haystack import Finder\n",
        "from haystack.preprocessor.cleaning import clean_wiki_text\n",
        "from haystack.preprocessor.utils import convert_files_to_dicts\n",
        "from haystack.reader.farm import FARMReader\n",
        "from haystack.document_store.elasticsearch import ElasticsearchDocumentStore\n",
        "from haystack.file_converter.pdf import PDFToTextConverter\n",
        "from haystack.retriever.dense import DensePassageRetriever\n",
        "from haystack.retriever.sparse import ElasticsearchRetriever\n",
        "from haystack.pipeline import ExtractiveQAPipeline\n",
        "from werkzeug.utils import secure_filename\n",
        "\n",
        "#application settings\n",
        "app = Flask(__name__)\n",
        "CORS(app)\n"
      ],
      "execution_count": null,
      "outputs": []
    },
    {
      "cell_type": "code",
      "metadata": {
        "id": "_so1R9VUqE_I"
      },
      "source": [
        "@app.route('/query',methods=['GET', 'POST'])\n",
        "def search():\n",
        "    \"\"\"Return the n answers.\"\"\"\n",
        "\n",
        "    question = request.get_json()\n",
        "    question = question['questions']\n",
        "\n",
        "    prediction = pipe.run(query=question[0], top_k_retriever=3, top_k_reader=3)\n",
        "    answer = []\n",
        "  \n",
        "    for res in prediction['answers']:\n",
        "        answer.append(res['answer'])\n",
        "\n",
        "    result = {\"results\":[prediction]}\n",
        "    return json.dumps(result)\n"
      ],
      "execution_count": null,
      "outputs": []
    },
    {
      "cell_type": "code",
      "metadata": {
        "id": "QUb9QbM-AFof"
      },
      "source": [
        "@app.route('/file-upload', methods = ['GET', 'POST'])\n",
        "def upload_file():\n",
        "   if request.method == 'POST':\n",
        "      f = request.files['file']\n",
        "      f.save(secure_filename(f.filename))\n",
        "      return 'File Uploaded Successfully'"
      ],
      "execution_count": null,
      "outputs": []
    },
    {
      "cell_type": "code",
      "metadata": {
        "id": "CprwMspBrRDT"
      },
      "source": [
        "run_with_ngrok(app)\n",
        "app.run()"
      ],
      "execution_count": null,
      "outputs": []
    },
    {
      "cell_type": "code",
      "metadata": {
        "id": "RpdBSZH2kjkt"
      },
      "source": [
        "from haystack.connector import Crawler\n",
        "    \n",
        "crawler = Crawler()\n",
        "# crawl Haystack docs, i.e. all pages that include haystack.deepset.ai/docs/\n",
        "docs = crawler.crawl(urls=[\"https://haystack.deepset.ai/docs/latest/get_startedmd\"],\n",
        "    output_dir=\"crawled_files\",\n",
        "    filter_urls= [\"haystack\\.deepset\\.ai\\/docs\\/\"])"
      ],
      "execution_count": null,
      "outputs": []
    }
  ]
}